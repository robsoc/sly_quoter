{
 "metadata": {
  "language_info": {
   "codemirror_mode": {
    "name": "ipython",
    "version": 3
   },
   "file_extension": ".py",
   "mimetype": "text/x-python",
   "name": "python",
   "nbconvert_exporter": "python",
   "pygments_lexer": "ipython3",
   "version": "3.8.3-final"
  },
  "orig_nbformat": 2,
  "kernelspec": {
   "name": "python3",
   "display_name": "Python 3",
   "language": "python"
  }
 },
 "nbformat": 4,
 "nbformat_minor": 2,
 "cells": [
  {
   "source": [
    "# Sly Quoter\n",
    "### Market-making algorithm based on Order Book Pressure\n",
    "\n",
    "Robert Soczewica   \n",
    "12 Feb 2021 "
   ],
   "cell_type": "markdown",
   "metadata": {}
  },
  {
   "source": [
    "## Introduction\n",
    "\n",
    "I prepared market making algorithm providing bid-ask quotes. The whole strategy is implemented in Python language with the use of OOP paradigm. Therefore the strategy itself is implemented as a class with parameters that can be tweaked and optimized independently. For this challenge I made some assumptions about the parameters, hence all of them have default values declared in class initializer.  \n",
    "\n",
    "The class outputs bid-ask quotes for defined test period. Those can be obtained with default parameters by simply running `sly = SlyQuoter().run()` and are saved in `sly.result` attribute. However, in order to show particular methods and the logic standing behind those, I will run whole strategy step-by-step in below report. \n",
    "\n",
    "All Python libraries needed to run the code are listed in separate **requirements.txt** file."
   ],
   "cell_type": "markdown",
   "metadata": {}
  },
  {
   "source": [
    "## Data analysis \n",
    "\n",
    "Let's import some useful packages:"
   ],
   "cell_type": "markdown",
   "metadata": {}
  },
  {
   "cell_type": "code",
   "execution_count": 1,
   "metadata": {},
   "outputs": [],
   "source": [
    "import numpy as np\n",
    "import pandas as pd\n",
    "import matplotlib.pyplot as plt\n",
    "import seaborn as sns\n",
    "\n",
    "plt.rcParams[\"figure.figsize\"] = (8,4)\n",
    "plt.style.use('fivethirtyeight')"
   ]
  },
  {
   "source": [
    "The raw order book data stored top 100 levels in each snapshoot and looks like this:"
   ],
   "cell_type": "markdown",
   "metadata": {}
  },
  {
   "cell_type": "code",
   "execution_count": 2,
   "metadata": {},
   "outputs": [
    {
     "output_type": "execute_result",
     "data": {
      "text/plain": [
       "               lastUpdated                                               asks  \\\n",
       "0  2020-07-22 00:00:05.487  [[2.8290000000000002e-05, 6044], [2.83e-05, 41...   \n",
       "1  2020-07-22 00:00:05.785  [[2.8290000000000002e-05, 6044], [2.83e-05, 41...   \n",
       "2  2020-07-22 00:00:19.194  [[2.83e-05, 4103], [2.8310000000000002e-05, 43...   \n",
       "3  2020-07-22 00:00:33.903  [[2.8290000000000002e-05, 7077], [2.83e-05, 41...   \n",
       "4  2020-07-22 00:00:54.917  [[2.83e-05, 9226], [2.8310000000000002e-05, 51...   \n",
       "\n",
       "                                                bids  \n",
       "0  [[2.8250000000000002e-05, 4103], [2.822e-05, 5...  \n",
       "1  [[2.822e-05, 5283], [2.821e-05, 5611], [2.8199...  \n",
       "2  [[2.823e-05, 4103], [2.822e-05, 5283], [2.821e...  \n",
       "3  [[2.823e-05, 4103], [2.822e-05, 5283], [2.821e...  \n",
       "4  [[2.822e-05, 8287], [2.821e-05, 5011], [2.8199...  "
      ],
      "text/html": "<div>\n<style scoped>\n    .dataframe tbody tr th:only-of-type {\n        vertical-align: middle;\n    }\n\n    .dataframe tbody tr th {\n        vertical-align: top;\n    }\n\n    .dataframe thead th {\n        text-align: right;\n    }\n</style>\n<table border=\"1\" class=\"dataframe\">\n  <thead>\n    <tr style=\"text-align: right;\">\n      <th></th>\n      <th>lastUpdated</th>\n      <th>asks</th>\n      <th>bids</th>\n    </tr>\n  </thead>\n  <tbody>\n    <tr>\n      <th>0</th>\n      <td>2020-07-22 00:00:05.487</td>\n      <td>[[2.8290000000000002e-05, 6044], [2.83e-05, 41...</td>\n      <td>[[2.8250000000000002e-05, 4103], [2.822e-05, 5...</td>\n    </tr>\n    <tr>\n      <th>1</th>\n      <td>2020-07-22 00:00:05.785</td>\n      <td>[[2.8290000000000002e-05, 6044], [2.83e-05, 41...</td>\n      <td>[[2.822e-05, 5283], [2.821e-05, 5611], [2.8199...</td>\n    </tr>\n    <tr>\n      <th>2</th>\n      <td>2020-07-22 00:00:19.194</td>\n      <td>[[2.83e-05, 4103], [2.8310000000000002e-05, 43...</td>\n      <td>[[2.823e-05, 4103], [2.822e-05, 5283], [2.821e...</td>\n    </tr>\n    <tr>\n      <th>3</th>\n      <td>2020-07-22 00:00:33.903</td>\n      <td>[[2.8290000000000002e-05, 7077], [2.83e-05, 41...</td>\n      <td>[[2.823e-05, 4103], [2.822e-05, 5283], [2.821e...</td>\n    </tr>\n    <tr>\n      <th>4</th>\n      <td>2020-07-22 00:00:54.917</td>\n      <td>[[2.83e-05, 9226], [2.8310000000000002e-05, 51...</td>\n      <td>[[2.822e-05, 8287], [2.821e-05, 5011], [2.8199...</td>\n    </tr>\n  </tbody>\n</table>\n</div>"
     },
     "metadata": {},
     "execution_count": 2
    }
   ],
   "source": [
    "from sly_quoter_class import SlyQuoter\n",
    "\n",
    "sly = SlyQuoter()\n",
    "sly.get_data(folder='binance_iotabtc_orderbooks')\n",
    "sly.order_book.head()"
   ]
  },
  {
   "source": [
    "One observation is that the json syntax was not loaded correctly. It will be handled later. The second thing to mention is the time frame of the dataset."
   ],
   "cell_type": "markdown",
   "metadata": {}
  },
  {
   "cell_type": "code",
   "execution_count": 3,
   "metadata": {},
   "outputs": [
    {
     "output_type": "execute_result",
     "data": {
      "text/plain": [
       "count                          96858\n",
       "unique                         96858\n",
       "top       2020-07-20 14:05:36.838000\n",
       "freq                               1\n",
       "first     2020-07-17 00:00:23.225000\n",
       "last      2020-07-30 23:59:01.545000\n",
       "Name: lastUpdated, dtype: object"
      ]
     },
     "metadata": {},
     "execution_count": 3
    }
   ],
   "source": [
    "pd.to_datetime(sly.order_book['lastUpdated']).describe()"
   ]
  },
  {
   "source": [
    "We can see that whole dataset is built on top of high frequency order book snapshoots through 14 days.   \n",
    "\n",
    "In order to ease the analysis and time needed for computation I made some fundamental assumptions about the data. First assumption states that I limited the order book levels used by the strategy. The default value was set to top 5 levels, which is only a small amount of available depth, but at least allows draw some meaningful conclusions about the market microstructure. \n",
    "\n",
    "The second major assumption was related to the granularity of observations. I decided to aggregate them in 1 minute bars by default, but end user can choose the most feasible aggregation by herself. Thanks to this the time space was divided into equally distributed chunks, which is convenient in modelling phase (the same number of observations in each day). \n",
    "\n",
    "I used forward fill for resampling, which means that order book assigned to a given time bar is the last order book snapshoot we have within this time bar (close state of order book). If there were no updates in a given time bar $t$, the last available order book state was sourced automatically from previous time bar $t-1$.\n",
    "\n",
    "As we do not have an access to earlier data than the first minute of the dataset, I replaced it not with the closing status of preceeding minute, but rather with a first available snapshoot.  "
   ],
   "cell_type": "markdown",
   "metadata": {}
  },
  {
   "cell_type": "code",
   "execution_count": 4,
   "metadata": {},
   "outputs": [
    {
     "output_type": "execute_result",
     "data": {
      "text/plain": [
       "                       bidPrice  bidAmount    askPrice  askAmount\n",
       "timeStamp                                                        \n",
       "2020-07-17 00:00:00  0.00002825       4103  0.00002829       6044\n",
       "2020-07-17 00:00:00  0.00002822       5283  0.00002830       4103\n",
       "2020-07-17 00:00:00  0.00002821       5611  0.00002831       5100\n",
       "2020-07-17 00:00:00  0.00002820       2328  0.00002832        187\n",
       "2020-07-17 00:00:00  0.00002819       5015  0.00002833      21146\n",
       "2020-07-17 00:01:00  0.00002639       4216  0.00002645       4216\n",
       "2020-07-17 00:01:00  0.00002638       4989  0.00002646        763\n",
       "2020-07-17 00:01:00  0.00002637       2427  0.00002647       6640\n",
       "2020-07-17 00:01:00  0.00002636      27936  0.00002648      16921\n",
       "2020-07-17 00:01:00  0.00002635        278  0.00002649         62"
      ],
      "text/html": "<div>\n<style scoped>\n    .dataframe tbody tr th:only-of-type {\n        vertical-align: middle;\n    }\n\n    .dataframe tbody tr th {\n        vertical-align: top;\n    }\n\n    .dataframe thead th {\n        text-align: right;\n    }\n</style>\n<table border=\"1\" class=\"dataframe\">\n  <thead>\n    <tr style=\"text-align: right;\">\n      <th></th>\n      <th>bidPrice</th>\n      <th>bidAmount</th>\n      <th>askPrice</th>\n      <th>askAmount</th>\n    </tr>\n    <tr>\n      <th>timeStamp</th>\n      <th></th>\n      <th></th>\n      <th></th>\n      <th></th>\n    </tr>\n  </thead>\n  <tbody>\n    <tr>\n      <th>2020-07-17 00:00:00</th>\n      <td>0.00002825</td>\n      <td>4103</td>\n      <td>0.00002829</td>\n      <td>6044</td>\n    </tr>\n    <tr>\n      <th>2020-07-17 00:00:00</th>\n      <td>0.00002822</td>\n      <td>5283</td>\n      <td>0.00002830</td>\n      <td>4103</td>\n    </tr>\n    <tr>\n      <th>2020-07-17 00:00:00</th>\n      <td>0.00002821</td>\n      <td>5611</td>\n      <td>0.00002831</td>\n      <td>5100</td>\n    </tr>\n    <tr>\n      <th>2020-07-17 00:00:00</th>\n      <td>0.00002820</td>\n      <td>2328</td>\n      <td>0.00002832</td>\n      <td>187</td>\n    </tr>\n    <tr>\n      <th>2020-07-17 00:00:00</th>\n      <td>0.00002819</td>\n      <td>5015</td>\n      <td>0.00002833</td>\n      <td>21146</td>\n    </tr>\n    <tr>\n      <th>2020-07-17 00:01:00</th>\n      <td>0.00002639</td>\n      <td>4216</td>\n      <td>0.00002645</td>\n      <td>4216</td>\n    </tr>\n    <tr>\n      <th>2020-07-17 00:01:00</th>\n      <td>0.00002638</td>\n      <td>4989</td>\n      <td>0.00002646</td>\n      <td>763</td>\n    </tr>\n    <tr>\n      <th>2020-07-17 00:01:00</th>\n      <td>0.00002637</td>\n      <td>2427</td>\n      <td>0.00002647</td>\n      <td>6640</td>\n    </tr>\n    <tr>\n      <th>2020-07-17 00:01:00</th>\n      <td>0.00002636</td>\n      <td>27936</td>\n      <td>0.00002648</td>\n      <td>16921</td>\n    </tr>\n    <tr>\n      <th>2020-07-17 00:01:00</th>\n      <td>0.00002635</td>\n      <td>278</td>\n      <td>0.00002649</td>\n      <td>62</td>\n    </tr>\n  </tbody>\n</table>\n</div>"
     },
     "metadata": {},
     "execution_count": 4
    }
   ],
   "source": [
    "sly.prepare_data(time_bar=1, max_depth=5)\n",
    "sly.order_book.head(10)"
   ]
  },
  {
   "source": [
    "The tick size for pair IOTA/BTC is 0.00000001, hence I set the display precision in pandas to eight decimal points. "
   ],
   "cell_type": "markdown",
   "metadata": {}
  },
  {
   "cell_type": "code",
   "execution_count": 5,
   "metadata": {},
   "outputs": [
    {
     "output_type": "execute_result",
     "data": {
      "text/plain": [
       "              bidPrice        bidAmount         askPrice        askAmount\n",
       "count  100800.00000000  100800.00000000  100800.00000000  100800.00000000\n",
       "mean        0.00002710    5300.79945437       0.00002718    5698.90093254\n",
       "std         0.00000142    8791.16146394       0.00000142    9803.57037218\n",
       "min         0.00002315       1.00000000       0.00002326       1.00000000\n",
       "25%         0.00002615     507.00000000       0.00002624    1000.00000000\n",
       "50%         0.00002717    4151.00000000       0.00002726    4665.00000000\n",
       "75%         0.00002826    6808.00000000       0.00002835    7111.00000000\n",
       "max         0.00003001  253000.00000000       0.00003011  568571.00000000"
      ],
      "text/html": "<div>\n<style scoped>\n    .dataframe tbody tr th:only-of-type {\n        vertical-align: middle;\n    }\n\n    .dataframe tbody tr th {\n        vertical-align: top;\n    }\n\n    .dataframe thead th {\n        text-align: right;\n    }\n</style>\n<table border=\"1\" class=\"dataframe\">\n  <thead>\n    <tr style=\"text-align: right;\">\n      <th></th>\n      <th>bidPrice</th>\n      <th>bidAmount</th>\n      <th>askPrice</th>\n      <th>askAmount</th>\n    </tr>\n  </thead>\n  <tbody>\n    <tr>\n      <th>count</th>\n      <td>100800.00000000</td>\n      <td>100800.00000000</td>\n      <td>100800.00000000</td>\n      <td>100800.00000000</td>\n    </tr>\n    <tr>\n      <th>mean</th>\n      <td>0.00002710</td>\n      <td>5300.79945437</td>\n      <td>0.00002718</td>\n      <td>5698.90093254</td>\n    </tr>\n    <tr>\n      <th>std</th>\n      <td>0.00000142</td>\n      <td>8791.16146394</td>\n      <td>0.00000142</td>\n      <td>9803.57037218</td>\n    </tr>\n    <tr>\n      <th>min</th>\n      <td>0.00002315</td>\n      <td>1.00000000</td>\n      <td>0.00002326</td>\n      <td>1.00000000</td>\n    </tr>\n    <tr>\n      <th>25%</th>\n      <td>0.00002615</td>\n      <td>507.00000000</td>\n      <td>0.00002624</td>\n      <td>1000.00000000</td>\n    </tr>\n    <tr>\n      <th>50%</th>\n      <td>0.00002717</td>\n      <td>4151.00000000</td>\n      <td>0.00002726</td>\n      <td>4665.00000000</td>\n    </tr>\n    <tr>\n      <th>75%</th>\n      <td>0.00002826</td>\n      <td>6808.00000000</td>\n      <td>0.00002835</td>\n      <td>7111.00000000</td>\n    </tr>\n    <tr>\n      <th>max</th>\n      <td>0.00003001</td>\n      <td>253000.00000000</td>\n      <td>0.00003011</td>\n      <td>568571.00000000</td>\n    </tr>\n  </tbody>\n</table>\n</div>"
     },
     "metadata": {},
     "execution_count": 5
    }
   ],
   "source": [
    "sly.order_book.describe()"
   ]
  },
  {
   "source": [
    "As it may be seen, there are more than 100k observations in our dataset. The bid-ask quotes are pretty low and due to that even small tick changes can result in significant percentage change. "
   ],
   "cell_type": "markdown",
   "metadata": {}
  },
  {
   "cell_type": "code",
   "execution_count": 6,
   "metadata": {},
   "outputs": [
    {
     "output_type": "display_data",
     "data": {
      "text/plain": "<Figure size 576x288 with 1 Axes>",
      "image/svg+xml": "<?xml version=\"1.0\" encoding=\"utf-8\" standalone=\"no\"?>\n<!DOCTYPE svg PUBLIC \"-//W3C//DTD SVG 1.1//EN\"\n  \"http://www.w3.org/Graphics/SVG/1.1/DTD/svg11.dtd\">\n<!-- Created with matplotlib (https://matplotlib.org/) -->\n<svg height=\"278.367188pt\" version=\"1.1\" viewBox=\"0 0 541.284375 278.367188\" width=\"541.284375pt\" xmlns=\"http://www.w3.org/2000/svg\" xmlns:xlink=\"http://www.w3.org/1999/xlink\">\n <metadata>\n  <rdf:RDF xmlns:cc=\"http://creativecommons.org/ns#\" xmlns:dc=\"http://purl.org/dc/elements/1.1/\" xmlns:rdf=\"http://www.w3.org/1999/02/22-rdf-syntax-ns#\">\n   <cc:Work>\n    <dc:type rdf:resource=\"http://purl.org/dc/dcmitype/StillImage\"/>\n    <dc:date>2021-02-12T20:51:26.704856</dc:date>\n    <dc:format>image/svg+xml</dc:format>\n    <dc:creator>\n     <cc:Agent>\n      <dc:title>Matplotlib v3.3.2, https://matplotlib.org/</dc:title>\n     </cc:Agent>\n    </dc:creator>\n   </cc:Work>\n  </rdf:RDF>\n </metadata>\n <defs>\n  <style type=\"text/css\">*{stroke-linecap:butt;stroke-linejoin:round;}</style>\n </defs>\n <g id=\"figure_1\">\n  <g id=\"patch_1\">\n   <path d=\"M 0 278.367188 \nL 541.284375 278.367188 \nL 541.284375 0 \nL 0 0 \nz\n\" style=\"fill:#f0f0f0;\"/>\n  </g>\n  <g id=\"axes_1\">\n   <g id=\"patch_2\">\n    <path d=\"M 32.964375 254.117813 \nL 534.084375 254.117813 \nL 534.084375 20.837812 \nL 32.964375 20.837812 \nz\n\" style=\"fill:#f0f0f0;\"/>\n   </g>\n   <g id=\"matplotlib.axis_1\">\n    <g id=\"xtick_1\">\n     <g id=\"line2d_1\">\n      <path clip-path=\"url(#pe2ce95c610)\" d=\"M 158.244375 254.117813 \nL 158.244375 20.837812 \n\" style=\"fill:none;stroke:#cbcbcb;\"/>\n     </g>\n     <g id=\"line2d_2\"/>\n     <g id=\"text_1\">\n      <!-- bidPrice -->\n      <g transform=\"translate(130.335156 268.255625)scale(0.14 -0.14)\">\n       <defs>\n        <path d=\"M 48.6875 27.296875 \nQ 48.6875 37.203125 44.609375 42.84375 \nQ 40.53125 48.484375 33.40625 48.484375 \nQ 26.265625 48.484375 22.1875 42.84375 \nQ 18.109375 37.203125 18.109375 27.296875 \nQ 18.109375 17.390625 22.1875 11.75 \nQ 26.265625 6.109375 33.40625 6.109375 \nQ 40.53125 6.109375 44.609375 11.75 \nQ 48.6875 17.390625 48.6875 27.296875 \nz\nM 18.109375 46.390625 \nQ 20.953125 51.265625 25.265625 53.625 \nQ 29.59375 56 35.59375 56 \nQ 45.5625 56 51.78125 48.09375 \nQ 58.015625 40.1875 58.015625 27.296875 \nQ 58.015625 14.40625 51.78125 6.484375 \nQ 45.5625 -1.421875 35.59375 -1.421875 \nQ 29.59375 -1.421875 25.265625 0.953125 \nQ 20.953125 3.328125 18.109375 8.203125 \nL 18.109375 0 \nL 9.078125 0 \nL 9.078125 75.984375 \nL 18.109375 75.984375 \nz\n\" id=\"DejaVuSans-98\"/>\n        <path d=\"M 9.421875 54.6875 \nL 18.40625 54.6875 \nL 18.40625 0 \nL 9.421875 0 \nz\nM 9.421875 75.984375 \nL 18.40625 75.984375 \nL 18.40625 64.59375 \nL 9.421875 64.59375 \nz\n\" id=\"DejaVuSans-105\"/>\n        <path d=\"M 45.40625 46.390625 \nL 45.40625 75.984375 \nL 54.390625 75.984375 \nL 54.390625 0 \nL 45.40625 0 \nL 45.40625 8.203125 \nQ 42.578125 3.328125 38.25 0.953125 \nQ 33.9375 -1.421875 27.875 -1.421875 \nQ 17.96875 -1.421875 11.734375 6.484375 \nQ 5.515625 14.40625 5.515625 27.296875 \nQ 5.515625 40.1875 11.734375 48.09375 \nQ 17.96875 56 27.875 56 \nQ 33.9375 56 38.25 53.625 \nQ 42.578125 51.265625 45.40625 46.390625 \nz\nM 14.796875 27.296875 \nQ 14.796875 17.390625 18.875 11.75 \nQ 22.953125 6.109375 30.078125 6.109375 \nQ 37.203125 6.109375 41.296875 11.75 \nQ 45.40625 17.390625 45.40625 27.296875 \nQ 45.40625 37.203125 41.296875 42.84375 \nQ 37.203125 48.484375 30.078125 48.484375 \nQ 22.953125 48.484375 18.875 42.84375 \nQ 14.796875 37.203125 14.796875 27.296875 \nz\n\" id=\"DejaVuSans-100\"/>\n        <path d=\"M 19.671875 64.796875 \nL 19.671875 37.40625 \nL 32.078125 37.40625 \nQ 38.96875 37.40625 42.71875 40.96875 \nQ 46.484375 44.53125 46.484375 51.125 \nQ 46.484375 57.671875 42.71875 61.234375 \nQ 38.96875 64.796875 32.078125 64.796875 \nz\nM 9.8125 72.90625 \nL 32.078125 72.90625 \nQ 44.34375 72.90625 50.609375 67.359375 \nQ 56.890625 61.8125 56.890625 51.125 \nQ 56.890625 40.328125 50.609375 34.8125 \nQ 44.34375 29.296875 32.078125 29.296875 \nL 19.671875 29.296875 \nL 19.671875 0 \nL 9.8125 0 \nz\n\" id=\"DejaVuSans-80\"/>\n        <path d=\"M 41.109375 46.296875 \nQ 39.59375 47.171875 37.8125 47.578125 \nQ 36.03125 48 33.890625 48 \nQ 26.265625 48 22.1875 43.046875 \nQ 18.109375 38.09375 18.109375 28.8125 \nL 18.109375 0 \nL 9.078125 0 \nL 9.078125 54.6875 \nL 18.109375 54.6875 \nL 18.109375 46.1875 \nQ 20.953125 51.171875 25.484375 53.578125 \nQ 30.03125 56 36.53125 56 \nQ 37.453125 56 38.578125 55.875 \nQ 39.703125 55.765625 41.0625 55.515625 \nz\n\" id=\"DejaVuSans-114\"/>\n        <path d=\"M 48.78125 52.59375 \nL 48.78125 44.1875 \nQ 44.96875 46.296875 41.140625 47.34375 \nQ 37.3125 48.390625 33.40625 48.390625 \nQ 24.65625 48.390625 19.8125 42.84375 \nQ 14.984375 37.3125 14.984375 27.296875 \nQ 14.984375 17.28125 19.8125 11.734375 \nQ 24.65625 6.203125 33.40625 6.203125 \nQ 37.3125 6.203125 41.140625 7.25 \nQ 44.96875 8.296875 48.78125 10.40625 \nL 48.78125 2.09375 \nQ 45.015625 0.34375 40.984375 -0.53125 \nQ 36.96875 -1.421875 32.421875 -1.421875 \nQ 20.0625 -1.421875 12.78125 6.34375 \nQ 5.515625 14.109375 5.515625 27.296875 \nQ 5.515625 40.671875 12.859375 48.328125 \nQ 20.21875 56 33.015625 56 \nQ 37.15625 56 41.109375 55.140625 \nQ 45.0625 54.296875 48.78125 52.59375 \nz\n\" id=\"DejaVuSans-99\"/>\n        <path d=\"M 56.203125 29.59375 \nL 56.203125 25.203125 \nL 14.890625 25.203125 \nQ 15.484375 15.921875 20.484375 11.0625 \nQ 25.484375 6.203125 34.421875 6.203125 \nQ 39.59375 6.203125 44.453125 7.46875 \nQ 49.3125 8.734375 54.109375 11.28125 \nL 54.109375 2.78125 \nQ 49.265625 0.734375 44.1875 -0.34375 \nQ 39.109375 -1.421875 33.890625 -1.421875 \nQ 20.796875 -1.421875 13.15625 6.1875 \nQ 5.515625 13.8125 5.515625 26.8125 \nQ 5.515625 40.234375 12.765625 48.109375 \nQ 20.015625 56 32.328125 56 \nQ 43.359375 56 49.78125 48.890625 \nQ 56.203125 41.796875 56.203125 29.59375 \nz\nM 47.21875 32.234375 \nQ 47.125 39.59375 43.09375 43.984375 \nQ 39.0625 48.390625 32.421875 48.390625 \nQ 24.90625 48.390625 20.390625 44.140625 \nQ 15.875 39.890625 15.1875 32.171875 \nz\n\" id=\"DejaVuSans-101\"/>\n       </defs>\n       <use xlink:href=\"#DejaVuSans-98\"/>\n       <use x=\"63.476562\" xlink:href=\"#DejaVuSans-105\"/>\n       <use x=\"91.259766\" xlink:href=\"#DejaVuSans-100\"/>\n       <use x=\"154.736328\" xlink:href=\"#DejaVuSans-80\"/>\n       <use x=\"213.289062\" xlink:href=\"#DejaVuSans-114\"/>\n       <use x=\"254.402344\" xlink:href=\"#DejaVuSans-105\"/>\n       <use x=\"282.185547\" xlink:href=\"#DejaVuSans-99\"/>\n       <use x=\"337.166016\" xlink:href=\"#DejaVuSans-101\"/>\n      </g>\n     </g>\n    </g>\n    <g id=\"xtick_2\">\n     <g id=\"line2d_3\">\n      <path clip-path=\"url(#pe2ce95c610)\" d=\"M 408.804375 254.117813 \nL 408.804375 20.837812 \n\" style=\"fill:none;stroke:#cbcbcb;\"/>\n     </g>\n     <g id=\"line2d_4\"/>\n     <g id=\"text_2\">\n      <!-- askPrice -->\n      <g transform=\"translate(379.737969 268.255625)scale(0.14 -0.14)\">\n       <defs>\n        <path d=\"M 34.28125 27.484375 \nQ 23.390625 27.484375 19.1875 25 \nQ 14.984375 22.515625 14.984375 16.5 \nQ 14.984375 11.71875 18.140625 8.90625 \nQ 21.296875 6.109375 26.703125 6.109375 \nQ 34.1875 6.109375 38.703125 11.40625 \nQ 43.21875 16.703125 43.21875 25.484375 \nL 43.21875 27.484375 \nz\nM 52.203125 31.203125 \nL 52.203125 0 \nL 43.21875 0 \nL 43.21875 8.296875 \nQ 40.140625 3.328125 35.546875 0.953125 \nQ 30.953125 -1.421875 24.3125 -1.421875 \nQ 15.921875 -1.421875 10.953125 3.296875 \nQ 6 8.015625 6 15.921875 \nQ 6 25.140625 12.171875 29.828125 \nQ 18.359375 34.515625 30.609375 34.515625 \nL 43.21875 34.515625 \nL 43.21875 35.40625 \nQ 43.21875 41.609375 39.140625 45 \nQ 35.0625 48.390625 27.6875 48.390625 \nQ 23 48.390625 18.546875 47.265625 \nQ 14.109375 46.140625 10.015625 43.890625 \nL 10.015625 52.203125 \nQ 14.9375 54.109375 19.578125 55.046875 \nQ 24.21875 56 28.609375 56 \nQ 40.484375 56 46.34375 49.84375 \nQ 52.203125 43.703125 52.203125 31.203125 \nz\n\" id=\"DejaVuSans-97\"/>\n        <path d=\"M 44.28125 53.078125 \nL 44.28125 44.578125 \nQ 40.484375 46.53125 36.375 47.5 \nQ 32.28125 48.484375 27.875 48.484375 \nQ 21.1875 48.484375 17.84375 46.4375 \nQ 14.5 44.390625 14.5 40.28125 \nQ 14.5 37.15625 16.890625 35.375 \nQ 19.28125 33.59375 26.515625 31.984375 \nL 29.59375 31.296875 \nQ 39.15625 29.25 43.1875 25.515625 \nQ 47.21875 21.78125 47.21875 15.09375 \nQ 47.21875 7.46875 41.1875 3.015625 \nQ 35.15625 -1.421875 24.609375 -1.421875 \nQ 20.21875 -1.421875 15.453125 -0.5625 \nQ 10.6875 0.296875 5.421875 2 \nL 5.421875 11.28125 \nQ 10.40625 8.6875 15.234375 7.390625 \nQ 20.0625 6.109375 24.8125 6.109375 \nQ 31.15625 6.109375 34.5625 8.28125 \nQ 37.984375 10.453125 37.984375 14.40625 \nQ 37.984375 18.0625 35.515625 20.015625 \nQ 33.0625 21.96875 24.703125 23.78125 \nL 21.578125 24.515625 \nQ 13.234375 26.265625 9.515625 29.90625 \nQ 5.8125 33.546875 5.8125 39.890625 \nQ 5.8125 47.609375 11.28125 51.796875 \nQ 16.75 56 26.8125 56 \nQ 31.78125 56 36.171875 55.265625 \nQ 40.578125 54.546875 44.28125 53.078125 \nz\n\" id=\"DejaVuSans-115\"/>\n        <path d=\"M 9.078125 75.984375 \nL 18.109375 75.984375 \nL 18.109375 31.109375 \nL 44.921875 54.6875 \nL 56.390625 54.6875 \nL 27.390625 29.109375 \nL 57.625 0 \nL 45.90625 0 \nL 18.109375 26.703125 \nL 18.109375 0 \nL 9.078125 0 \nz\n\" id=\"DejaVuSans-107\"/>\n       </defs>\n       <use xlink:href=\"#DejaVuSans-97\"/>\n       <use x=\"61.279297\" xlink:href=\"#DejaVuSans-115\"/>\n       <use x=\"113.378906\" xlink:href=\"#DejaVuSans-107\"/>\n       <use x=\"171.289062\" xlink:href=\"#DejaVuSans-80\"/>\n       <use x=\"229.841797\" xlink:href=\"#DejaVuSans-114\"/>\n       <use x=\"270.955078\" xlink:href=\"#DejaVuSans-105\"/>\n       <use x=\"298.738281\" xlink:href=\"#DejaVuSans-99\"/>\n       <use x=\"353.71875\" xlink:href=\"#DejaVuSans-101\"/>\n      </g>\n     </g>\n    </g>\n   </g>\n   <g id=\"matplotlib.axis_2\">\n    <g id=\"ytick_1\">\n     <g id=\"line2d_5\">\n      <path clip-path=\"url(#pe2ce95c610)\" d=\"M 32.964375 248.084709 \nL 534.084375 248.084709 \n\" style=\"fill:none;stroke:#cbcbcb;\"/>\n     </g>\n     <g id=\"line2d_6\"/>\n     <g id=\"text_3\">\n      <!-- 2.3 -->\n      <g transform=\"translate(7.2 253.403615)scale(0.14 -0.14)\">\n       <defs>\n        <path d=\"M 19.1875 8.296875 \nL 53.609375 8.296875 \nL 53.609375 0 \nL 7.328125 0 \nL 7.328125 8.296875 \nQ 12.9375 14.109375 22.625 23.890625 \nQ 32.328125 33.6875 34.8125 36.53125 \nQ 39.546875 41.84375 41.421875 45.53125 \nQ 43.3125 49.21875 43.3125 52.78125 \nQ 43.3125 58.59375 39.234375 62.25 \nQ 35.15625 65.921875 28.609375 65.921875 \nQ 23.96875 65.921875 18.8125 64.3125 \nQ 13.671875 62.703125 7.8125 59.421875 \nL 7.8125 69.390625 \nQ 13.765625 71.78125 18.9375 73 \nQ 24.125 74.21875 28.421875 74.21875 \nQ 39.75 74.21875 46.484375 68.546875 \nQ 53.21875 62.890625 53.21875 53.421875 \nQ 53.21875 48.921875 51.53125 44.890625 \nQ 49.859375 40.875 45.40625 35.40625 \nQ 44.1875 33.984375 37.640625 27.21875 \nQ 31.109375 20.453125 19.1875 8.296875 \nz\n\" id=\"DejaVuSans-50\"/>\n        <path d=\"M 10.6875 12.40625 \nL 21 12.40625 \nL 21 0 \nL 10.6875 0 \nz\n\" id=\"DejaVuSans-46\"/>\n        <path d=\"M 40.578125 39.3125 \nQ 47.65625 37.796875 51.625 33 \nQ 55.609375 28.21875 55.609375 21.1875 \nQ 55.609375 10.40625 48.1875 4.484375 \nQ 40.765625 -1.421875 27.09375 -1.421875 \nQ 22.515625 -1.421875 17.65625 -0.515625 \nQ 12.796875 0.390625 7.625 2.203125 \nL 7.625 11.71875 \nQ 11.71875 9.328125 16.59375 8.109375 \nQ 21.484375 6.890625 26.8125 6.890625 \nQ 36.078125 6.890625 40.9375 10.546875 \nQ 45.796875 14.203125 45.796875 21.1875 \nQ 45.796875 27.640625 41.28125 31.265625 \nQ 36.765625 34.90625 28.71875 34.90625 \nL 20.21875 34.90625 \nL 20.21875 43.015625 \nL 29.109375 43.015625 \nQ 36.375 43.015625 40.234375 45.921875 \nQ 44.09375 48.828125 44.09375 54.296875 \nQ 44.09375 59.90625 40.109375 62.90625 \nQ 36.140625 65.921875 28.71875 65.921875 \nQ 24.65625 65.921875 20.015625 65.03125 \nQ 15.375 64.15625 9.8125 62.3125 \nL 9.8125 71.09375 \nQ 15.4375 72.65625 20.34375 73.4375 \nQ 25.25 74.21875 29.59375 74.21875 \nQ 40.828125 74.21875 47.359375 69.109375 \nQ 53.90625 64.015625 53.90625 55.328125 \nQ 53.90625 49.265625 50.4375 45.09375 \nQ 46.96875 40.921875 40.578125 39.3125 \nz\n\" id=\"DejaVuSans-51\"/>\n       </defs>\n       <use xlink:href=\"#DejaVuSans-50\"/>\n       <use x=\"63.623047\" xlink:href=\"#DejaVuSans-46\"/>\n       <use x=\"95.410156\" xlink:href=\"#DejaVuSans-51\"/>\n      </g>\n     </g>\n    </g>\n    <g id=\"ytick_2\">\n     <g id=\"line2d_7\">\n      <path clip-path=\"url(#pe2ce95c610)\" d=\"M 32.964375 217.61449 \nL 534.084375 217.61449 \n\" style=\"fill:none;stroke:#cbcbcb;\"/>\n     </g>\n     <g id=\"line2d_8\"/>\n     <g id=\"text_4\">\n      <!-- 2.4 -->\n      <g transform=\"translate(7.2 222.933396)scale(0.14 -0.14)\">\n       <defs>\n        <path d=\"M 37.796875 64.3125 \nL 12.890625 25.390625 \nL 37.796875 25.390625 \nz\nM 35.203125 72.90625 \nL 47.609375 72.90625 \nL 47.609375 25.390625 \nL 58.015625 25.390625 \nL 58.015625 17.1875 \nL 47.609375 17.1875 \nL 47.609375 0 \nL 37.796875 0 \nL 37.796875 17.1875 \nL 4.890625 17.1875 \nL 4.890625 26.703125 \nz\n\" id=\"DejaVuSans-52\"/>\n       </defs>\n       <use xlink:href=\"#DejaVuSans-50\"/>\n       <use x=\"63.623047\" xlink:href=\"#DejaVuSans-46\"/>\n       <use x=\"95.410156\" xlink:href=\"#DejaVuSans-52\"/>\n      </g>\n     </g>\n    </g>\n    <g id=\"ytick_3\">\n     <g id=\"line2d_9\">\n      <path clip-path=\"url(#pe2ce95c610)\" d=\"M 32.964375 187.14427 \nL 534.084375 187.14427 \n\" style=\"fill:none;stroke:#cbcbcb;\"/>\n     </g>\n     <g id=\"line2d_10\"/>\n     <g id=\"text_5\">\n      <!-- 2.5 -->\n      <g transform=\"translate(7.2 192.463176)scale(0.14 -0.14)\">\n       <defs>\n        <path d=\"M 10.796875 72.90625 \nL 49.515625 72.90625 \nL 49.515625 64.59375 \nL 19.828125 64.59375 \nL 19.828125 46.734375 \nQ 21.96875 47.46875 24.109375 47.828125 \nQ 26.265625 48.1875 28.421875 48.1875 \nQ 40.625 48.1875 47.75 41.5 \nQ 54.890625 34.8125 54.890625 23.390625 \nQ 54.890625 11.625 47.5625 5.09375 \nQ 40.234375 -1.421875 26.90625 -1.421875 \nQ 22.3125 -1.421875 17.546875 -0.640625 \nQ 12.796875 0.140625 7.71875 1.703125 \nL 7.71875 11.625 \nQ 12.109375 9.234375 16.796875 8.0625 \nQ 21.484375 6.890625 26.703125 6.890625 \nQ 35.15625 6.890625 40.078125 11.328125 \nQ 45.015625 15.765625 45.015625 23.390625 \nQ 45.015625 31 40.078125 35.4375 \nQ 35.15625 39.890625 26.703125 39.890625 \nQ 22.75 39.890625 18.8125 39.015625 \nQ 14.890625 38.140625 10.796875 36.28125 \nz\n\" id=\"DejaVuSans-53\"/>\n       </defs>\n       <use xlink:href=\"#DejaVuSans-50\"/>\n       <use x=\"63.623047\" xlink:href=\"#DejaVuSans-46\"/>\n       <use x=\"95.410156\" xlink:href=\"#DejaVuSans-53\"/>\n      </g>\n     </g>\n    </g>\n    <g id=\"ytick_4\">\n     <g id=\"line2d_11\">\n      <path clip-path=\"url(#pe2ce95c610)\" d=\"M 32.964375 156.674051 \nL 534.084375 156.674051 \n\" style=\"fill:none;stroke:#cbcbcb;\"/>\n     </g>\n     <g id=\"line2d_12\"/>\n     <g id=\"text_6\">\n      <!-- 2.6 -->\n      <g transform=\"translate(7.2 161.992957)scale(0.14 -0.14)\">\n       <defs>\n        <path d=\"M 33.015625 40.375 \nQ 26.375 40.375 22.484375 35.828125 \nQ 18.609375 31.296875 18.609375 23.390625 \nQ 18.609375 15.53125 22.484375 10.953125 \nQ 26.375 6.390625 33.015625 6.390625 \nQ 39.65625 6.390625 43.53125 10.953125 \nQ 47.40625 15.53125 47.40625 23.390625 \nQ 47.40625 31.296875 43.53125 35.828125 \nQ 39.65625 40.375 33.015625 40.375 \nz\nM 52.59375 71.296875 \nL 52.59375 62.3125 \nQ 48.875 64.0625 45.09375 64.984375 \nQ 41.3125 65.921875 37.59375 65.921875 \nQ 27.828125 65.921875 22.671875 59.328125 \nQ 17.53125 52.734375 16.796875 39.40625 \nQ 19.671875 43.65625 24.015625 45.921875 \nQ 28.375 48.1875 33.59375 48.1875 \nQ 44.578125 48.1875 50.953125 41.515625 \nQ 57.328125 34.859375 57.328125 23.390625 \nQ 57.328125 12.15625 50.6875 5.359375 \nQ 44.046875 -1.421875 33.015625 -1.421875 \nQ 20.359375 -1.421875 13.671875 8.265625 \nQ 6.984375 17.96875 6.984375 36.375 \nQ 6.984375 53.65625 15.1875 63.9375 \nQ 23.390625 74.21875 37.203125 74.21875 \nQ 40.921875 74.21875 44.703125 73.484375 \nQ 48.484375 72.75 52.59375 71.296875 \nz\n\" id=\"DejaVuSans-54\"/>\n       </defs>\n       <use xlink:href=\"#DejaVuSans-50\"/>\n       <use x=\"63.623047\" xlink:href=\"#DejaVuSans-46\"/>\n       <use x=\"95.410156\" xlink:href=\"#DejaVuSans-54\"/>\n      </g>\n     </g>\n    </g>\n    <g id=\"ytick_5\">\n     <g id=\"line2d_13\">\n      <path clip-path=\"url(#pe2ce95c610)\" d=\"M 32.964375 126.203831 \nL 534.084375 126.203831 \n\" style=\"fill:none;stroke:#cbcbcb;\"/>\n     </g>\n     <g id=\"line2d_14\"/>\n     <g id=\"text_7\">\n      <!-- 2.7 -->\n      <g transform=\"translate(7.2 131.522738)scale(0.14 -0.14)\">\n       <defs>\n        <path d=\"M 8.203125 72.90625 \nL 55.078125 72.90625 \nL 55.078125 68.703125 \nL 28.609375 0 \nL 18.3125 0 \nL 43.21875 64.59375 \nL 8.203125 64.59375 \nz\n\" id=\"DejaVuSans-55\"/>\n       </defs>\n       <use xlink:href=\"#DejaVuSans-50\"/>\n       <use x=\"63.623047\" xlink:href=\"#DejaVuSans-46\"/>\n       <use x=\"95.410156\" xlink:href=\"#DejaVuSans-55\"/>\n      </g>\n     </g>\n    </g>\n    <g id=\"ytick_6\">\n     <g id=\"line2d_15\">\n      <path clip-path=\"url(#pe2ce95c610)\" d=\"M 32.964375 95.733612 \nL 534.084375 95.733612 \n\" style=\"fill:none;stroke:#cbcbcb;\"/>\n     </g>\n     <g id=\"line2d_16\"/>\n     <g id=\"text_8\">\n      <!-- 2.8 -->\n      <g transform=\"translate(7.2 101.052518)scale(0.14 -0.14)\">\n       <defs>\n        <path d=\"M 31.78125 34.625 \nQ 24.75 34.625 20.71875 30.859375 \nQ 16.703125 27.09375 16.703125 20.515625 \nQ 16.703125 13.921875 20.71875 10.15625 \nQ 24.75 6.390625 31.78125 6.390625 \nQ 38.8125 6.390625 42.859375 10.171875 \nQ 46.921875 13.96875 46.921875 20.515625 \nQ 46.921875 27.09375 42.890625 30.859375 \nQ 38.875 34.625 31.78125 34.625 \nz\nM 21.921875 38.8125 \nQ 15.578125 40.375 12.03125 44.71875 \nQ 8.5 49.078125 8.5 55.328125 \nQ 8.5 64.0625 14.71875 69.140625 \nQ 20.953125 74.21875 31.78125 74.21875 \nQ 42.671875 74.21875 48.875 69.140625 \nQ 55.078125 64.0625 55.078125 55.328125 \nQ 55.078125 49.078125 51.53125 44.71875 \nQ 48 40.375 41.703125 38.8125 \nQ 48.828125 37.15625 52.796875 32.3125 \nQ 56.78125 27.484375 56.78125 20.515625 \nQ 56.78125 9.90625 50.3125 4.234375 \nQ 43.84375 -1.421875 31.78125 -1.421875 \nQ 19.734375 -1.421875 13.25 4.234375 \nQ 6.78125 9.90625 6.78125 20.515625 \nQ 6.78125 27.484375 10.78125 32.3125 \nQ 14.796875 37.15625 21.921875 38.8125 \nz\nM 18.3125 54.390625 \nQ 18.3125 48.734375 21.84375 45.5625 \nQ 25.390625 42.390625 31.78125 42.390625 \nQ 38.140625 42.390625 41.71875 45.5625 \nQ 45.3125 48.734375 45.3125 54.390625 \nQ 45.3125 60.0625 41.71875 63.234375 \nQ 38.140625 66.40625 31.78125 66.40625 \nQ 25.390625 66.40625 21.84375 63.234375 \nQ 18.3125 60.0625 18.3125 54.390625 \nz\n\" id=\"DejaVuSans-56\"/>\n       </defs>\n       <use xlink:href=\"#DejaVuSans-50\"/>\n       <use x=\"63.623047\" xlink:href=\"#DejaVuSans-46\"/>\n       <use x=\"95.410156\" xlink:href=\"#DejaVuSans-56\"/>\n      </g>\n     </g>\n    </g>\n    <g id=\"ytick_7\">\n     <g id=\"line2d_17\">\n      <path clip-path=\"url(#pe2ce95c610)\" d=\"M 32.964375 65.263392 \nL 534.084375 65.263392 \n\" style=\"fill:none;stroke:#cbcbcb;\"/>\n     </g>\n     <g id=\"line2d_18\"/>\n     <g id=\"text_9\">\n      <!-- 2.9 -->\n      <g transform=\"translate(7.2 70.582299)scale(0.14 -0.14)\">\n       <defs>\n        <path d=\"M 10.984375 1.515625 \nL 10.984375 10.5 \nQ 14.703125 8.734375 18.5 7.8125 \nQ 22.3125 6.890625 25.984375 6.890625 \nQ 35.75 6.890625 40.890625 13.453125 \nQ 46.046875 20.015625 46.78125 33.40625 \nQ 43.953125 29.203125 39.59375 26.953125 \nQ 35.25 24.703125 29.984375 24.703125 \nQ 19.046875 24.703125 12.671875 31.3125 \nQ 6.296875 37.9375 6.296875 49.421875 \nQ 6.296875 60.640625 12.9375 67.421875 \nQ 19.578125 74.21875 30.609375 74.21875 \nQ 43.265625 74.21875 49.921875 64.515625 \nQ 56.59375 54.828125 56.59375 36.375 \nQ 56.59375 19.140625 48.40625 8.859375 \nQ 40.234375 -1.421875 26.421875 -1.421875 \nQ 22.703125 -1.421875 18.890625 -0.6875 \nQ 15.09375 0.046875 10.984375 1.515625 \nz\nM 30.609375 32.421875 \nQ 37.25 32.421875 41.125 36.953125 \nQ 45.015625 41.5 45.015625 49.421875 \nQ 45.015625 57.28125 41.125 61.84375 \nQ 37.25 66.40625 30.609375 66.40625 \nQ 23.96875 66.40625 20.09375 61.84375 \nQ 16.21875 57.28125 16.21875 49.421875 \nQ 16.21875 41.5 20.09375 36.953125 \nQ 23.96875 32.421875 30.609375 32.421875 \nz\n\" id=\"DejaVuSans-57\"/>\n       </defs>\n       <use xlink:href=\"#DejaVuSans-50\"/>\n       <use x=\"63.623047\" xlink:href=\"#DejaVuSans-46\"/>\n       <use x=\"95.410156\" xlink:href=\"#DejaVuSans-57\"/>\n      </g>\n     </g>\n    </g>\n    <g id=\"ytick_8\">\n     <g id=\"line2d_19\">\n      <path clip-path=\"url(#pe2ce95c610)\" d=\"M 32.964375 34.793173 \nL 534.084375 34.793173 \n\" style=\"fill:none;stroke:#cbcbcb;\"/>\n     </g>\n     <g id=\"line2d_20\"/>\n     <g id=\"text_10\">\n      <!-- 3.0 -->\n      <g transform=\"translate(7.2 40.112079)scale(0.14 -0.14)\">\n       <defs>\n        <path d=\"M 31.78125 66.40625 \nQ 24.171875 66.40625 20.328125 58.90625 \nQ 16.5 51.421875 16.5 36.375 \nQ 16.5 21.390625 20.328125 13.890625 \nQ 24.171875 6.390625 31.78125 6.390625 \nQ 39.453125 6.390625 43.28125 13.890625 \nQ 47.125 21.390625 47.125 36.375 \nQ 47.125 51.421875 43.28125 58.90625 \nQ 39.453125 66.40625 31.78125 66.40625 \nz\nM 31.78125 74.21875 \nQ 44.046875 74.21875 50.515625 64.515625 \nQ 56.984375 54.828125 56.984375 36.375 \nQ 56.984375 17.96875 50.515625 8.265625 \nQ 44.046875 -1.421875 31.78125 -1.421875 \nQ 19.53125 -1.421875 13.0625 8.265625 \nQ 6.59375 17.96875 6.59375 36.375 \nQ 6.59375 54.828125 13.0625 64.515625 \nQ 19.53125 74.21875 31.78125 74.21875 \nz\n\" id=\"DejaVuSans-48\"/>\n       </defs>\n       <use xlink:href=\"#DejaVuSans-51\"/>\n       <use x=\"63.623047\" xlink:href=\"#DejaVuSans-46\"/>\n       <use x=\"95.410156\" xlink:href=\"#DejaVuSans-48\"/>\n      </g>\n     </g>\n    </g>\n    <g id=\"text_11\">\n     <!-- 1e−5 -->\n     <g transform=\"translate(32.964375 17.837812)scale(0.14 -0.14)\">\n      <defs>\n       <path d=\"M 12.40625 8.296875 \nL 28.515625 8.296875 \nL 28.515625 63.921875 \nL 10.984375 60.40625 \nL 10.984375 69.390625 \nL 28.421875 72.90625 \nL 38.28125 72.90625 \nL 38.28125 8.296875 \nL 54.390625 8.296875 \nL 54.390625 0 \nL 12.40625 0 \nz\n\" id=\"DejaVuSans-49\"/>\n       <path d=\"M 10.59375 35.5 \nL 73.1875 35.5 \nL 73.1875 27.203125 \nL 10.59375 27.203125 \nz\n\" id=\"DejaVuSans-8722\"/>\n      </defs>\n      <use xlink:href=\"#DejaVuSans-49\"/>\n      <use x=\"63.623047\" xlink:href=\"#DejaVuSans-101\"/>\n      <use x=\"125.146484\" xlink:href=\"#DejaVuSans-8722\"/>\n      <use x=\"208.935547\" xlink:href=\"#DejaVuSans-53\"/>\n     </g>\n    </g>\n   </g>\n   <g id=\"line2d_21\">\n    <path clip-path=\"url(#pe2ce95c610)\" d=\"M 139.452375 152.103518 \nL 177.036375 152.103518 \nL 177.036375 87.811355 \nL 139.452375 87.811355 \nL 139.452375 152.103518 \n\" style=\"fill:none;stroke:#008fd5;\"/>\n   </g>\n   <g id=\"line2d_22\">\n    <path clip-path=\"url(#pe2ce95c610)\" d=\"M 158.244375 152.103518 \nL 158.244375 243.514176 \n\" style=\"fill:none;stroke:#008fd5;\"/>\n   </g>\n   <g id=\"line2d_23\">\n    <path clip-path=\"url(#pe2ce95c610)\" d=\"M 158.244375 87.811355 \nL 158.244375 34.488471 \n\" style=\"fill:none;stroke:#008fd5;\"/>\n   </g>\n   <g id=\"line2d_24\">\n    <path clip-path=\"url(#pe2ce95c610)\" d=\"M 148.848375 243.514176 \nL 167.640375 243.514176 \n\" style=\"fill:none;stroke:#000000;\"/>\n   </g>\n   <g id=\"line2d_25\">\n    <path clip-path=\"url(#pe2ce95c610)\" d=\"M 148.848375 34.488471 \nL 167.640375 34.488471 \n\" style=\"fill:none;stroke:#000000;\"/>\n   </g>\n   <g id=\"line2d_26\"/>\n   <g id=\"line2d_27\">\n    <path clip-path=\"url(#pe2ce95c610)\" d=\"M 390.012375 149.361198 \nL 427.596375 149.361198 \nL 427.596375 85.069035 \nL 390.012375 85.069035 \nL 390.012375 149.361198 \n\" style=\"fill:none;stroke:#008fd5;\"/>\n   </g>\n   <g id=\"line2d_28\">\n    <path clip-path=\"url(#pe2ce95c610)\" d=\"M 408.804375 149.361198 \nL 408.804375 240.162452 \n\" style=\"fill:none;stroke:#008fd5;\"/>\n   </g>\n   <g id=\"line2d_29\">\n    <path clip-path=\"url(#pe2ce95c610)\" d=\"M 408.804375 85.069035 \nL 408.804375 31.441449 \n\" style=\"fill:none;stroke:#008fd5;\"/>\n   </g>\n   <g id=\"line2d_30\">\n    <path clip-path=\"url(#pe2ce95c610)\" d=\"M 399.408375 240.162452 \nL 418.200375 240.162452 \n\" style=\"fill:none;stroke:#000000;\"/>\n   </g>\n   <g id=\"line2d_31\">\n    <path clip-path=\"url(#pe2ce95c610)\" d=\"M 399.408375 31.441449 \nL 418.200375 31.441449 \n\" style=\"fill:none;stroke:#000000;\"/>\n   </g>\n   <g id=\"line2d_32\"/>\n   <g id=\"line2d_33\">\n    <path clip-path=\"url(#pe2ce95c610)\" d=\"M 139.452375 121.023894 \nL 177.036375 121.023894 \n\" style=\"fill:none;stroke:#e5ae38;\"/>\n   </g>\n   <g id=\"line2d_34\">\n    <path clip-path=\"url(#pe2ce95c610)\" d=\"M 390.012375 118.281574 \nL 427.596375 118.281574 \n\" style=\"fill:none;stroke:#e5ae38;\"/>\n   </g>\n   <g id=\"patch_3\">\n    <path d=\"M 32.964375 254.117812 \nL 32.964375 20.837812 \n\" style=\"fill:none;stroke:#f0f0f0;stroke-linecap:square;stroke-linejoin:miter;stroke-width:3;\"/>\n   </g>\n   <g id=\"patch_4\">\n    <path d=\"M 534.084375 254.117812 \nL 534.084375 20.837812 \n\" style=\"fill:none;stroke:#f0f0f0;stroke-linecap:square;stroke-linejoin:miter;stroke-width:3;\"/>\n   </g>\n   <g id=\"patch_5\">\n    <path d=\"M 32.964375 254.117813 \nL 534.084375 254.117813 \n\" style=\"fill:none;stroke:#f0f0f0;stroke-linecap:square;stroke-linejoin:miter;stroke-width:3;\"/>\n   </g>\n   <g id=\"patch_6\">\n    <path d=\"M 32.964375 20.837812 \nL 534.084375 20.837812 \n\" style=\"fill:none;stroke:#f0f0f0;stroke-linecap:square;stroke-linejoin:miter;stroke-width:3;\"/>\n   </g>\n  </g>\n </g>\n <defs>\n  <clipPath id=\"pe2ce95c610\">\n   <rect height=\"233.28\" width=\"501.12\" x=\"32.964375\" y=\"20.837812\"/>\n  </clipPath>\n </defs>\n</svg>\n",
      "image/png": "[encoded data removed]"
     },
     "metadata": {}
    }
   ],
   "source": [
    "sly.order_book.boxplot(column=['bidPrice', 'askPrice']);"
   ]
  },
  {
   "cell_type": "code",
   "execution_count": 7,
   "metadata": {},
   "outputs": [
    {
     "output_type": "display_data",
     "data": {
      "text/plain": "<Figure size 576x288 with 1 Axes>",
      "image/svg+xml": "<?xml version=\"1.0\" encoding=\"utf-8\" standalone=\"no\"?>\n<!DOCTYPE svg PUBLIC \"-//W3C//DTD SVG 1.1//EN\"\n  \"http://www.w3.org/Graphics/SVG/1.1/DTD/svg11.dtd\">\n<!-- Created with matplotlib (https://matplotlib.org/) -->\n<svg height=\"264.729375pt\" version=\"1.1\" viewBox=\"0 0 563.5575 264.729375\" width=\"563.5575pt\" xmlns=\"http://www.w3.org/2000/svg\" xmlns:xlink=\"http://www.w3.org/1999/xlink\">\n <metadata>\n  <rdf:RDF xmlns:cc=\"http://creativecommons.org/ns#\" xmlns:dc=\"http://purl.org/dc/elements/1.1/\" xmlns:rdf=\"http://www.w3.org/1999/02/22-rdf-syntax-ns#\">\n   <cc:Work>\n    <dc:type rdf:resource=\"http://purl.org/dc/dcmitype/StillImage\"/>\n    <dc:date>2021-02-12T20:51:27.719548</dc:date>\n    <dc:format>image/svg+xml</dc:format>\n    <dc:creator>\n     <cc:Agent>\n      <dc:title>Matplotlib v3.3.2, https://matplotlib.org/</dc:title>\n     </cc:Agent>\n    </dc:creator>\n   </cc:Work>\n  </rdf:RDF>\n </metadata>\n <defs>\n  <style type=\"text/css\">*{stroke-linecap:butt;stroke-linejoin:round;}</style>\n </defs>\n <g id=\"figure_1\">\n  <g id=\"patch_1\">\n   <path d=\"M 0 264.729375 \nL 563.5575 264.729375 \nL 563.5575 0 \nL 0 0 \nz\n\" style=\"fill:#f0f0f0;\"/>\n  </g>\n  <g id=\"axes_1\">\n   <g id=\"patch_2\">\n    <path d=\"M 55.2375 240.48 \nL 556.3575 240.48 \nL 556.3575 7.2 \nL 55.2375 7.2 \nz\n\" style=\"fill:#f0f0f0;\"/>\n   </g>\n   <g id=\"matplotlib.axis_1\">\n    <g id=\"xtick_1\">\n     <g id=\"line2d_1\">\n      <path clip-path=\"url(#pfbc14a52e6)\" d=\"M 78.015682 240.48 \nL 78.015682 7.2 \n\" style=\"fill:none;stroke:#cbcbcb;\"/>\n     </g>\n     <g id=\"line2d_2\"/>\n     <g id=\"text_1\">\n      <!-- 0 -->\n      <g transform=\"translate(73.561932 254.617813)scale(0.14 -0.14)\">\n       <defs>\n        <path d=\"M 31.78125 66.40625 \nQ 24.171875 66.40625 20.328125 58.90625 \nQ 16.5 51.421875 16.5 36.375 \nQ 16.5 21.390625 20.328125 13.890625 \nQ 24.171875 6.390625 31.78125 6.390625 \nQ 39.453125 6.390625 43.28125 13.890625 \nQ 47.125 21.390625 47.125 36.375 \nQ 47.125 51.421875 43.28125 58.90625 \nQ 39.453125 66.40625 31.78125 66.40625 \nz\nM 31.78125 74.21875 \nQ 44.046875 74.21875 50.515625 64.515625 \nQ 56.984375 54.828125 56.984375 36.375 \nQ 56.984375 17.96875 50.515625 8.265625 \nQ 44.046875 -1.421875 31.78125 -1.421875 \nQ 19.53125 -1.421875 13.0625 8.265625 \nQ 6.59375 17.96875 6.59375 36.375 \nQ 6.59375 54.828125 13.0625 64.515625 \nQ 19.53125 74.21875 31.78125 74.21875 \nz\n\" id=\"DejaVuSans-48\"/>\n       </defs>\n       <use xlink:href=\"#DejaVuSans-48\"/>\n      </g>\n     </g>\n    </g>\n    <g id=\"xtick_2\">\n     <g id=\"line2d_3\">\n      <path clip-path=\"url(#pfbc14a52e6)\" d=\"M 134.961136 240.48 \nL 134.961136 7.2 \n\" style=\"fill:none;stroke:#cbcbcb;\"/>\n     </g>\n     <g id=\"line2d_4\"/>\n     <g id=\"text_2\">\n      <!-- 2500 -->\n      <g transform=\"translate(117.146136 254.617813)scale(0.14 -0.14)\">\n       <defs>\n        <path d=\"M 19.1875 8.296875 \nL 53.609375 8.296875 \nL 53.609375 0 \nL 7.328125 0 \nL 7.328125 8.296875 \nQ 12.9375 14.109375 22.625 23.890625 \nQ 32.328125 33.6875 34.8125 36.53125 \nQ 39.546875 41.84375 41.421875 45.53125 \nQ 43.3125 49.21875 43.3125 52.78125 \nQ 43.3125 58.59375 39.234375 62.25 \nQ 35.15625 65.921875 28.609375 65.921875 \nQ 23.96875 65.921875 18.8125 64.3125 \nQ 13.671875 62.703125 7.8125 59.421875 \nL 7.8125 69.390625 \nQ 13.765625 71.78125 18.9375 73 \nQ 24.125 74.21875 28.421875 74.21875 \nQ 39.75 74.21875 46.484375 68.546875 \nQ 53.21875 62.890625 53.21875 53.421875 \nQ 53.21875 48.921875 51.53125 44.890625 \nQ 49.859375 40.875 45.40625 35.40625 \nQ 44.1875 33.984375 37.640625 27.21875 \nQ 31.109375 20.453125 19.1875 8.296875 \nz\n\" id=\"DejaVuSans-50\"/>\n        <path d=\"M 10.796875 72.90625 \nL 49.515625 72.90625 \nL 49.515625 64.59375 \nL 19.828125 64.59375 \nL 19.828125 46.734375 \nQ 21.96875 47.46875 24.109375 47.828125 \nQ 26.265625 48.1875 28.421875 48.1875 \nQ 40.625 48.1875 47.75 41.5 \nQ 54.890625 34.8125 54.890625 23.390625 \nQ 54.890625 11.625 47.5625 5.09375 \nQ 40.234375 -1.421875 26.90625 -1.421875 \nQ 22.3125 -1.421875 17.546875 -0.640625 \nQ 12.796875 0.140625 7.71875 1.703125 \nL 7.71875 11.625 \nQ 12.109375 9.234375 16.796875 8.0625 \nQ 21.484375 6.890625 26.703125 6.890625 \nQ 35.15625 6.890625 40.078125 11.328125 \nQ 45.015625 15.765625 45.015625 23.390625 \nQ 45.015625 31 40.078125 35.4375 \nQ 35.15625 39.890625 26.703125 39.890625 \nQ 22.75 39.890625 18.8125 39.015625 \nQ 14.890625 38.140625 10.796875 36.28125 \nz\n\" id=\"DejaVuSans-53\"/>\n       </defs>\n       <use xlink:href=\"#DejaVuSans-50\"/>\n       <use x=\"63.623047\" xlink:href=\"#DejaVuSans-53\"/>\n       <use x=\"127.246094\" xlink:href=\"#DejaVuSans-48\"/>\n       <use x=\"190.869141\" xlink:href=\"#DejaVuSans-48\"/>\n      </g>\n     </g>\n    </g>\n    <g id=\"xtick_3\">\n     <g id=\"line2d_5\">\n      <path clip-path=\"url(#pfbc14a52e6)\" d=\"M 191.906591 240.48 \nL 191.906591 7.2 \n\" style=\"fill:none;stroke:#cbcbcb;\"/>\n     </g>\n     <g id=\"line2d_6\"/>\n     <g id=\"text_3\">\n      <!-- 5000 -->\n      <g transform=\"translate(174.091591 254.617813)scale(0.14 -0.14)\">\n       <use xlink:href=\"#DejaVuSans-53\"/>\n       <use x=\"63.623047\" xlink:href=\"#DejaVuSans-48\"/>\n       <use x=\"127.246094\" xlink:href=\"#DejaVuSans-48\"/>\n       <use x=\"190.869141\" xlink:href=\"#DejaVuSans-48\"/>\n      </g>\n     </g>\n    </g>\n    <g id=\"xtick_4\">\n     <g id=\"line2d_7\">\n      <path clip-path=\"url(#pfbc14a52e6)\" d=\"M 248.852045 240.48 \nL 248.852045 7.2 \n\" style=\"fill:none;stroke:#cbcbcb;\"/>\n     </g>\n     <g id=\"line2d_8\"/>\n     <g id=\"text_4\">\n      <!-- 7500 -->\n      <g transform=\"translate(231.037045 254.617813)scale(0.14 -0.14)\">\n       <defs>\n        <path d=\"M 8.203125 72.90625 \nL 55.078125 72.90625 \nL 55.078125 68.703125 \nL 28.609375 0 \nL 18.3125 0 \nL 43.21875 64.59375 \nL 8.203125 64.59375 \nz\n\" id=\"DejaVuSans-55\"/>\n       </defs>\n       <use xlink:href=\"#DejaVuSans-55\"/>\n       <use x=\"63.623047\" xlink:href=\"#DejaVuSans-53\"/>\n       <use x=\"127.246094\" xlink:href=\"#DejaVuSans-48\"/>\n       <use x=\"190.869141\" xlink:href=\"#DejaVuSans-48\"/>\n      </g>\n     </g>\n    </g>\n    <g id=\"xtick_5\">\n     <g id=\"line2d_9\">\n      <path clip-path=\"url(#pfbc14a52e6)\" d=\"M 305.7975 240.48 \nL 305.7975 7.2 \n\" style=\"fill:none;stroke:#cbcbcb;\"/>\n     </g>\n     <g id=\"line2d_10\"/>\n     <g id=\"text_5\">\n      <!-- 10000 -->\n      <g transform=\"translate(283.52875 254.617813)scale(0.14 -0.14)\">\n       <defs>\n        <path d=\"M 12.40625 8.296875 \nL 28.515625 8.296875 \nL 28.515625 63.921875 \nL 10.984375 60.40625 \nL 10.984375 69.390625 \nL 28.421875 72.90625 \nL 38.28125 72.90625 \nL 38.28125 8.296875 \nL 54.390625 8.296875 \nL 54.390625 0 \nL 12.40625 0 \nz\n\" id=\"DejaVuSans-49\"/>\n       </defs>\n       <use xlink:href=\"#DejaVuSans-49\"/>\n       <use x=\"63.623047\" xlink:href=\"#DejaVuSans-48\"/>\n       <use x=\"127.246094\" xlink:href=\"#DejaVuSans-48\"/>\n       <use x=\"190.869141\" xlink:href=\"#DejaVuSans-48\"/>\n       <use x=\"254.492188\" xlink:href=\"#DejaVuSans-48\"/>\n      </g>\n     </g>\n    </g>\n    <g id=\"xtick_6\">\n     <g id=\"line2d_11\">\n      <path clip-path=\"url(#pfbc14a52e6)\" d=\"M 362.742955 240.48 \nL 362.742955 7.2 \n\" style=\"fill:none;stroke:#cbcbcb;\"/>\n     </g>\n     <g id=\"line2d_12\"/>\n     <g id=\"text_6\">\n      <!-- 12500 -->\n      <g transform=\"translate(340.474205 254.617813)scale(0.14 -0.14)\">\n       <use xlink:href=\"#DejaVuSans-49\"/>\n       <use x=\"63.623047\" xlink:href=\"#DejaVuSans-50\"/>\n       <use x=\"127.246094\" xlink:href=\"#DejaVuSans-53\"/>\n       <use x=\"190.869141\" xlink:href=\"#DejaVuSans-48\"/>\n       <use x=\"254.492188\" xlink:href=\"#DejaVuSans-48\"/>\n      </g>\n     </g>\n    </g>\n    <g id=\"xtick_7\">\n     <g id=\"line2d_13\">\n      <path clip-path=\"url(#pfbc14a52e6)\" d=\"M 419.688409 240.48 \nL 419.688409 7.2 \n\" style=\"fill:none;stroke:#cbcbcb;\"/>\n     </g>\n     <g id=\"line2d_14\"/>\n     <g id=\"text_7\">\n      <!-- 15000 -->\n      <g transform=\"translate(397.419659 254.617813)scale(0.14 -0.14)\">\n       <use xlink:href=\"#DejaVuSans-49\"/>\n       <use x=\"63.623047\" xlink:href=\"#DejaVuSans-53\"/>\n       <use x=\"127.246094\" xlink:href=\"#DejaVuSans-48\"/>\n       <use x=\"190.869141\" xlink:href=\"#DejaVuSans-48\"/>\n       <use x=\"254.492188\" xlink:href=\"#DejaVuSans-48\"/>\n      </g>\n     </g>\n    </g>\n    <g id=\"xtick_8\">\n     <g id=\"line2d_15\">\n      <path clip-path=\"url(#pfbc14a52e6)\" d=\"M 476.633864 240.48 \nL 476.633864 7.2 \n\" style=\"fill:none;stroke:#cbcbcb;\"/>\n     </g>\n     <g id=\"line2d_16\"/>\n     <g id=\"text_8\">\n      <!-- 17500 -->\n      <g transform=\"translate(454.365114 254.617813)scale(0.14 -0.14)\">\n       <use xlink:href=\"#DejaVuSans-49\"/>\n       <use x=\"63.623047\" xlink:href=\"#DejaVuSans-55\"/>\n       <use x=\"127.246094\" xlink:href=\"#DejaVuSans-53\"/>\n       <use x=\"190.869141\" xlink:href=\"#DejaVuSans-48\"/>\n       <use x=\"254.492188\" xlink:href=\"#DejaVuSans-48\"/>\n      </g>\n     </g>\n    </g>\n    <g id=\"xtick_9\">\n     <g id=\"line2d_17\">\n      <path clip-path=\"url(#pfbc14a52e6)\" d=\"M 533.579318 240.48 \nL 533.579318 7.2 \n\" style=\"fill:none;stroke:#cbcbcb;\"/>\n     </g>\n     <g id=\"line2d_18\"/>\n     <g id=\"text_9\">\n      <!-- 20000 -->\n      <g transform=\"translate(511.310568 254.617813)scale(0.14 -0.14)\">\n       <use xlink:href=\"#DejaVuSans-50\"/>\n       <use x=\"63.623047\" xlink:href=\"#DejaVuSans-48\"/>\n       <use x=\"127.246094\" xlink:href=\"#DejaVuSans-48\"/>\n       <use x=\"190.869141\" xlink:href=\"#DejaVuSans-48\"/>\n       <use x=\"254.492188\" xlink:href=\"#DejaVuSans-48\"/>\n      </g>\n     </g>\n    </g>\n   </g>\n   <g id=\"matplotlib.axis_2\">\n    <g id=\"ytick_1\">\n     <g id=\"line2d_19\">\n      <path clip-path=\"url(#pfbc14a52e6)\" d=\"M 55.2375 240.48 \nL 556.3575 240.48 \n\" style=\"fill:none;stroke:#cbcbcb;\"/>\n     </g>\n     <g id=\"line2d_20\"/>\n     <g id=\"text_10\">\n      <!-- 0 -->\n      <g transform=\"translate(42.83 245.798906)scale(0.14 -0.14)\">\n       <use xlink:href=\"#DejaVuSans-48\"/>\n      </g>\n     </g>\n    </g>\n    <g id=\"ytick_2\">\n     <g id=\"line2d_21\">\n      <path clip-path=\"url(#pfbc14a52e6)\" d=\"M 55.2375 200.151187 \nL 556.3575 200.151187 \n\" style=\"fill:none;stroke:#cbcbcb;\"/>\n     </g>\n     <g id=\"line2d_22\"/>\n     <g id=\"text_11\">\n      <!-- 5000 -->\n      <g transform=\"translate(16.1075 205.470094)scale(0.14 -0.14)\">\n       <use xlink:href=\"#DejaVuSans-53\"/>\n       <use x=\"63.623047\" xlink:href=\"#DejaVuSans-48\"/>\n       <use x=\"127.246094\" xlink:href=\"#DejaVuSans-48\"/>\n       <use x=\"190.869141\" xlink:href=\"#DejaVuSans-48\"/>\n      </g>\n     </g>\n    </g>\n    <g id=\"ytick_3\">\n     <g id=\"line2d_23\">\n      <path clip-path=\"url(#pfbc14a52e6)\" d=\"M 55.2375 159.822375 \nL 556.3575 159.822375 \n\" style=\"fill:none;stroke:#cbcbcb;\"/>\n     </g>\n     <g id=\"line2d_24\"/>\n     <g id=\"text_12\">\n      <!-- 10000 -->\n      <g transform=\"translate(7.2 165.141281)scale(0.14 -0.14)\">\n       <use xlink:href=\"#DejaVuSans-49\"/>\n       <use x=\"63.623047\" xlink:href=\"#DejaVuSans-48\"/>\n       <use x=\"127.246094\" xlink:href=\"#DejaVuSans-48\"/>\n       <use x=\"190.869141\" xlink:href=\"#DejaVuSans-48\"/>\n       <use x=\"254.492188\" xlink:href=\"#DejaVuSans-48\"/>\n      </g>\n     </g>\n    </g>\n    <g id=\"ytick_4\">\n     <g id=\"line2d_25\">\n      <path clip-path=\"url(#pfbc14a52e6)\" d=\"M 55.2375 119.493562 \nL 556.3575 119.493562 \n\" style=\"fill:none;stroke:#cbcbcb;\"/>\n     </g>\n     <g id=\"line2d_26\"/>\n     <g id=\"text_13\">\n      <!-- 15000 -->\n      <g transform=\"translate(7.2 124.812468)scale(0.14 -0.14)\">\n       <use xlink:href=\"#DejaVuSans-49\"/>\n       <use x=\"63.623047\" xlink:href=\"#DejaVuSans-53\"/>\n       <use x=\"127.246094\" xlink:href=\"#DejaVuSans-48\"/>\n       <use x=\"190.869141\" xlink:href=\"#DejaVuSans-48\"/>\n       <use x=\"254.492188\" xlink:href=\"#DejaVuSans-48\"/>\n      </g>\n     </g>\n    </g>\n    <g id=\"ytick_5\">\n     <g id=\"line2d_27\">\n      <path clip-path=\"url(#pfbc14a52e6)\" d=\"M 55.2375 79.16475 \nL 556.3575 79.16475 \n\" style=\"fill:none;stroke:#cbcbcb;\"/>\n     </g>\n     <g id=\"line2d_28\"/>\n     <g id=\"text_14\">\n      <!-- 20000 -->\n      <g transform=\"translate(7.2 84.483656)scale(0.14 -0.14)\">\n       <use xlink:href=\"#DejaVuSans-50\"/>\n       <use x=\"63.623047\" xlink:href=\"#DejaVuSans-48\"/>\n       <use x=\"127.246094\" xlink:href=\"#DejaVuSans-48\"/>\n       <use x=\"190.869141\" xlink:href=\"#DejaVuSans-48\"/>\n       <use x=\"254.492188\" xlink:href=\"#DejaVuSans-48\"/>\n      </g>\n     </g>\n    </g>\n    <g id=\"ytick_6\">\n     <g id=\"line2d_29\">\n      <path clip-path=\"url(#pfbc14a52e6)\" d=\"M 55.2375 38.835937 \nL 556.3575 38.835937 \n\" style=\"fill:none;stroke:#cbcbcb;\"/>\n     </g>\n     <g id=\"line2d_30\"/>\n     <g id=\"text_15\">\n      <!-- 25000 -->\n      <g transform=\"translate(7.2 44.154843)scale(0.14 -0.14)\">\n       <use xlink:href=\"#DejaVuSans-50\"/>\n       <use x=\"63.623047\" xlink:href=\"#DejaVuSans-53\"/>\n       <use x=\"127.246094\" xlink:href=\"#DejaVuSans-48\"/>\n       <use x=\"190.869141\" xlink:href=\"#DejaVuSans-48\"/>\n       <use x=\"254.492188\" xlink:href=\"#DejaVuSans-48\"/>\n      </g>\n     </g>\n    </g>\n   </g>\n   <g id=\"patch_3\">\n    <path clip-path=\"url(#pfbc14a52e6)\" d=\"M 78.015682 240.48 \nL 96.238227 240.48 \nL 96.238227 18.308571 \nL 78.015682 18.308571 \nz\n\" style=\"fill:#008000;\"/>\n   </g>\n   <g id=\"patch_4\">\n    <path clip-path=\"url(#pfbc14a52e6)\" d=\"M 96.238227 240.48 \nL 114.460773 240.48 \nL 114.460773 190.407746 \nL 96.238227 190.407746 \nz\n\" style=\"fill:#008000;\"/>\n   </g>\n   <g id=\"patch_5\">\n    <path clip-path=\"url(#pfbc14a52e6)\" d=\"M 114.460773 240.48 \nL 132.683318 240.48 \nL 132.683318 204.288924 \nL 114.460773 204.288924 \nz\n\" style=\"fill:#008000;\"/>\n   </g>\n   <g id=\"patch_6\">\n    <path clip-path=\"url(#pfbc14a52e6)\" d=\"M 132.683318 240.48 \nL 150.905864 240.48 \nL 150.905864 203.740452 \nL 132.683318 203.740452 \nz\n\" style=\"fill:#008000;\"/>\n   </g>\n   <g id=\"patch_7\">\n    <path clip-path=\"url(#pfbc14a52e6)\" d=\"M 150.905864 240.48 \nL 169.128409 240.48 \nL 169.128409 192.488713 \nL 150.905864 192.488713 \nz\n\" style=\"fill:#008000;\"/>\n   </g>\n   <g id=\"patch_8\">\n    <path clip-path=\"url(#pfbc14a52e6)\" d=\"M 169.128409 240.48 \nL 187.350955 240.48 \nL 187.350955 173.324461 \nL 169.128409 173.324461 \nz\n\" style=\"fill:#008000;\"/>\n   </g>\n   <g id=\"patch_9\">\n    <path clip-path=\"url(#pfbc14a52e6)\" d=\"M 187.350955 240.48 \nL 205.5735 240.48 \nL 205.5735 174.73597 \nL 187.350955 174.73597 \nz\n\" style=\"fill:#008000;\"/>\n   </g>\n   <g id=\"patch_10\">\n    <path clip-path=\"url(#pfbc14a52e6)\" d=\"M 205.5735 240.48 \nL 223.796045 240.48 \nL 223.796045 183.906742 \nL 205.5735 183.906742 \nz\n\" style=\"fill:#008000;\"/>\n   </g>\n   <g id=\"patch_11\">\n    <path clip-path=\"url(#pfbc14a52e6)\" d=\"M 223.796045 240.48 \nL 242.018591 240.48 \nL 242.018591 189.649565 \nL 223.796045 189.649565 \nz\n\" style=\"fill:#008000;\"/>\n   </g>\n   <g id=\"patch_12\">\n    <path clip-path=\"url(#pfbc14a52e6)\" d=\"M 242.018591 240.48 \nL 260.241136 240.48 \nL 260.241136 201.780471 \nL 242.018591 201.780471 \nz\n\" style=\"fill:#008000;\"/>\n   </g>\n   <g id=\"patch_13\">\n    <path clip-path=\"url(#pfbc14a52e6)\" d=\"M 260.241136 240.48 \nL 278.463682 240.48 \nL 278.463682 217.879733 \nL 260.241136 217.879733 \nz\n\" style=\"fill:#008000;\"/>\n   </g>\n   <g id=\"patch_14\">\n    <path clip-path=\"url(#pfbc14a52e6)\" d=\"M 278.463682 240.48 \nL 296.686227 240.48 \nL 296.686227 225.550274 \nL 278.463682 225.550274 \nz\n\" style=\"fill:#008000;\"/>\n   </g>\n   <g id=\"patch_15\">\n    <path clip-path=\"url(#pfbc14a52e6)\" d=\"M 296.686227 240.48 \nL 314.908773 240.48 \nL 314.908773 226.348784 \nL 296.686227 226.348784 \nz\n\" style=\"fill:#008000;\"/>\n   </g>\n   <g id=\"patch_16\">\n    <path clip-path=\"url(#pfbc14a52e6)\" d=\"M 314.908773 240.48 \nL 333.131318 240.48 \nL 333.131318 228.147449 \nL 314.908773 228.147449 \nz\n\" style=\"fill:#008000;\"/>\n   </g>\n   <g id=\"patch_17\">\n    <path clip-path=\"url(#pfbc14a52e6)\" d=\"M 333.131318 240.48 \nL 351.353864 240.48 \nL 351.353864 230.672033 \nL 333.131318 230.672033 \nz\n\" style=\"fill:#008000;\"/>\n   </g>\n   <g id=\"patch_18\">\n    <path clip-path=\"url(#pfbc14a52e6)\" d=\"M 351.353864 240.48 \nL 369.576409 240.48 \nL 369.576409 232.349711 \nL 351.353864 232.349711 \nz\n\" style=\"fill:#008000;\"/>\n   </g>\n   <g id=\"patch_19\">\n    <path clip-path=\"url(#pfbc14a52e6)\" d=\"M 369.576409 240.48 \nL 387.798955 240.48 \nL 387.798955 233.995127 \nL 369.576409 233.995127 \nz\n\" style=\"fill:#008000;\"/>\n   </g>\n   <g id=\"patch_20\">\n    <path clip-path=\"url(#pfbc14a52e6)\" d=\"M 387.798955 240.48 \nL 406.0215 240.48 \nL 406.0215 233.987061 \nL 387.798955 233.987061 \nz\n\" style=\"fill:#008000;\"/>\n   </g>\n   <g id=\"patch_21\">\n    <path clip-path=\"url(#pfbc14a52e6)\" d=\"M 406.0215 240.48 \nL 424.244045 240.48 \nL 424.244045 236.027699 \nL 406.0215 236.027699 \nz\n\" style=\"fill:#008000;\"/>\n   </g>\n   <g id=\"patch_22\">\n    <path clip-path=\"url(#pfbc14a52e6)\" d=\"M 424.244045 240.48 \nL 442.466591 240.48 \nL 442.466591 236.664894 \nL 424.244045 236.664894 \nz\n\" style=\"fill:#008000;\"/>\n   </g>\n   <g id=\"patch_23\">\n    <path clip-path=\"url(#pfbc14a52e6)\" d=\"M 442.466591 240.48 \nL 460.689136 240.48 \nL 460.689136 236.971393 \nL 442.466591 236.971393 \nz\n\" style=\"fill:#008000;\"/>\n   </g>\n   <g id=\"patch_24\">\n    <path clip-path=\"url(#pfbc14a52e6)\" d=\"M 460.689136 240.48 \nL 478.911682 240.48 \nL 478.911682 237.56826 \nL 460.689136 237.56826 \nz\n\" style=\"fill:#008000;\"/>\n   </g>\n   <g id=\"patch_25\">\n    <path clip-path=\"url(#pfbc14a52e6)\" d=\"M 478.911682 240.48 \nL 497.134227 240.48 \nL 497.134227 237.713443 \nL 478.911682 237.713443 \nz\n\" style=\"fill:#008000;\"/>\n   </g>\n   <g id=\"patch_26\">\n    <path clip-path=\"url(#pfbc14a52e6)\" d=\"M 497.134227 240.48 \nL 515.356773 240.48 \nL 515.356773 237.632786 \nL 497.134227 237.632786 \nz\n\" style=\"fill:#008000;\"/>\n   </g>\n   <g id=\"patch_27\">\n    <path clip-path=\"url(#pfbc14a52e6)\" d=\"M 515.356773 240.48 \nL 533.579318 240.48 \nL 533.579318 238.415165 \nL 515.356773 238.415165 \nz\n\" style=\"fill:#008000;\"/>\n   </g>\n   <g id=\"patch_28\">\n    <path d=\"M 55.2375 240.48 \nL 55.2375 7.2 \n\" style=\"fill:none;stroke:#f0f0f0;stroke-linecap:square;stroke-linejoin:miter;stroke-width:3;\"/>\n   </g>\n   <g id=\"patch_29\">\n    <path d=\"M 556.3575 240.48 \nL 556.3575 7.2 \n\" style=\"fill:none;stroke:#f0f0f0;stroke-linecap:square;stroke-linejoin:miter;stroke-width:3;\"/>\n   </g>\n   <g id=\"patch_30\">\n    <path d=\"M 55.2375 240.48 \nL 556.3575 240.48 \n\" style=\"fill:none;stroke:#f0f0f0;stroke-linecap:square;stroke-linejoin:miter;stroke-width:3;\"/>\n   </g>\n   <g id=\"patch_31\">\n    <path d=\"M 55.2375 7.2 \nL 556.3575 7.2 \n\" style=\"fill:none;stroke:#f0f0f0;stroke-linecap:square;stroke-linejoin:miter;stroke-width:3;\"/>\n   </g>\n  </g>\n </g>\n <defs>\n  <clipPath id=\"pfbc14a52e6\">\n   <rect height=\"233.28\" width=\"501.12\" x=\"55.2375\" y=\"7.2\"/>\n  </clipPath>\n </defs>\n</svg>\n",
      "image/png": "[encoded data removed]"
     },
     "metadata": {}
    }
   ],
   "source": [
    "plt.hist(sly.order_book['bidAmount'], bins=25, range=(0, 20000), color='green');"
   ]
  },
  {
   "cell_type": "code",
   "execution_count": 8,
   "metadata": {},
   "outputs": [
    {
     "output_type": "display_data",
     "data": {
      "text/plain": "<Figure size 576x288 with 1 Axes>",
      "image/svg+xml": "<?xml version=\"1.0\" encoding=\"utf-8\" standalone=\"no\"?>\n<!DOCTYPE svg PUBLIC \"-//W3C//DTD SVG 1.1//EN\"\n  \"http://www.w3.org/Graphics/SVG/1.1/DTD/svg11.dtd\">\n<!-- Created with matplotlib (https://matplotlib.org/) -->\n<svg height=\"264.729375pt\" version=\"1.1\" viewBox=\"0 0 563.5575 264.729375\" width=\"563.5575pt\" xmlns=\"http://www.w3.org/2000/svg\" xmlns:xlink=\"http://www.w3.org/1999/xlink\">\n <metadata>\n  <rdf:RDF xmlns:cc=\"http://creativecommons.org/ns#\" xmlns:dc=\"http://purl.org/dc/elements/1.1/\" xmlns:rdf=\"http://www.w3.org/1999/02/22-rdf-syntax-ns#\">\n   <cc:Work>\n    <dc:type rdf:resource=\"http://purl.org/dc/dcmitype/StillImage\"/>\n    <dc:date>2021-02-12T20:51:29.048584</dc:date>\n    <dc:format>image/svg+xml</dc:format>\n    <dc:creator>\n     <cc:Agent>\n      <dc:title>Matplotlib v3.3.2, https://matplotlib.org/</dc:title>\n     </cc:Agent>\n    </dc:creator>\n   </cc:Work>\n  </rdf:RDF>\n </metadata>\n <defs>\n  <style type=\"text/css\">*{stroke-linecap:butt;stroke-linejoin:round;}</style>\n </defs>\n <g id=\"figure_1\">\n  <g id=\"patch_1\">\n   <path d=\"M 0 264.729375 \nL 563.5575 264.729375 \nL 563.5575 0 \nL 0 0 \nz\n\" style=\"fill:#f0f0f0;\"/>\n  </g>\n  <g id=\"axes_1\">\n   <g id=\"patch_2\">\n    <path d=\"M 55.2375 240.48 \nL 556.3575 240.48 \nL 556.3575 7.2 \nL 55.2375 7.2 \nz\n\" style=\"fill:#f0f0f0;\"/>\n   </g>\n   <g id=\"matplotlib.axis_1\">\n    <g id=\"xtick_1\">\n     <g id=\"line2d_1\">\n      <path clip-path=\"url(#pd1724c0d76)\" d=\"M 78.015682 240.48 \nL 78.015682 7.2 \n\" style=\"fill:none;stroke:#cbcbcb;\"/>\n     </g>\n     <g id=\"line2d_2\"/>\n     <g id=\"text_1\">\n      <!-- 0 -->\n      <g transform=\"translate(73.561932 254.617813)scale(0.14 -0.14)\">\n       <defs>\n        <path d=\"M 31.78125 66.40625 \nQ 24.171875 66.40625 20.328125 58.90625 \nQ 16.5 51.421875 16.5 36.375 \nQ 16.5 21.390625 20.328125 13.890625 \nQ 24.171875 6.390625 31.78125 6.390625 \nQ 39.453125 6.390625 43.28125 13.890625 \nQ 47.125 21.390625 47.125 36.375 \nQ 47.125 51.421875 43.28125 58.90625 \nQ 39.453125 66.40625 31.78125 66.40625 \nz\nM 31.78125 74.21875 \nQ 44.046875 74.21875 50.515625 64.515625 \nQ 56.984375 54.828125 56.984375 36.375 \nQ 56.984375 17.96875 50.515625 8.265625 \nQ 44.046875 -1.421875 31.78125 -1.421875 \nQ 19.53125 -1.421875 13.0625 8.265625 \nQ 6.59375 17.96875 6.59375 36.375 \nQ 6.59375 54.828125 13.0625 64.515625 \nQ 19.53125 74.21875 31.78125 74.21875 \nz\n\" id=\"DejaVuSans-48\"/>\n       </defs>\n       <use xlink:href=\"#DejaVuSans-48\"/>\n      </g>\n     </g>\n    </g>\n    <g id=\"xtick_2\">\n     <g id=\"line2d_3\">\n      <path clip-path=\"url(#pd1724c0d76)\" d=\"M 134.961136 240.48 \nL 134.961136 7.2 \n\" style=\"fill:none;stroke:#cbcbcb;\"/>\n     </g>\n     <g id=\"line2d_4\"/>\n     <g id=\"text_2\">\n      <!-- 2500 -->\n      <g transform=\"translate(117.146136 254.617813)scale(0.14 -0.14)\">\n       <defs>\n        <path d=\"M 19.1875 8.296875 \nL 53.609375 8.296875 \nL 53.609375 0 \nL 7.328125 0 \nL 7.328125 8.296875 \nQ 12.9375 14.109375 22.625 23.890625 \nQ 32.328125 33.6875 34.8125 36.53125 \nQ 39.546875 41.84375 41.421875 45.53125 \nQ 43.3125 49.21875 43.3125 52.78125 \nQ 43.3125 58.59375 39.234375 62.25 \nQ 35.15625 65.921875 28.609375 65.921875 \nQ 23.96875 65.921875 18.8125 64.3125 \nQ 13.671875 62.703125 7.8125 59.421875 \nL 7.8125 69.390625 \nQ 13.765625 71.78125 18.9375 73 \nQ 24.125 74.21875 28.421875 74.21875 \nQ 39.75 74.21875 46.484375 68.546875 \nQ 53.21875 62.890625 53.21875 53.421875 \nQ 53.21875 48.921875 51.53125 44.890625 \nQ 49.859375 40.875 45.40625 35.40625 \nQ 44.1875 33.984375 37.640625 27.21875 \nQ 31.109375 20.453125 19.1875 8.296875 \nz\n\" id=\"DejaVuSans-50\"/>\n        <path d=\"M 10.796875 72.90625 \nL 49.515625 72.90625 \nL 49.515625 64.59375 \nL 19.828125 64.59375 \nL 19.828125 46.734375 \nQ 21.96875 47.46875 24.109375 47.828125 \nQ 26.265625 48.1875 28.421875 48.1875 \nQ 40.625 48.1875 47.75 41.5 \nQ 54.890625 34.8125 54.890625 23.390625 \nQ 54.890625 11.625 47.5625 5.09375 \nQ 40.234375 -1.421875 26.90625 -1.421875 \nQ 22.3125 -1.421875 17.546875 -0.640625 \nQ 12.796875 0.140625 7.71875 1.703125 \nL 7.71875 11.625 \nQ 12.109375 9.234375 16.796875 8.0625 \nQ 21.484375 6.890625 26.703125 6.890625 \nQ 35.15625 6.890625 40.078125 11.328125 \nQ 45.015625 15.765625 45.015625 23.390625 \nQ 45.015625 31 40.078125 35.4375 \nQ 35.15625 39.890625 26.703125 39.890625 \nQ 22.75 39.890625 18.8125 39.015625 \nQ 14.890625 38.140625 10.796875 36.28125 \nz\n\" id=\"DejaVuSans-53\"/>\n       </defs>\n       <use xlink:href=\"#DejaVuSans-50\"/>\n       <use x=\"63.623047\" xlink:href=\"#DejaVuSans-53\"/>\n       <use x=\"127.246094\" xlink:href=\"#DejaVuSans-48\"/>\n       <use x=\"190.869141\" xlink:href=\"#DejaVuSans-48\"/>\n      </g>\n     </g>\n    </g>\n    <g id=\"xtick_3\">\n     <g id=\"line2d_5\">\n      <path clip-path=\"url(#pd1724c0d76)\" d=\"M 191.906591 240.48 \nL 191.906591 7.2 \n\" style=\"fill:none;stroke:#cbcbcb;\"/>\n     </g>\n     <g id=\"line2d_6\"/>\n     <g id=\"text_3\">\n      <!-- 5000 -->\n      <g transform=\"translate(174.091591 254.617813)scale(0.14 -0.14)\">\n       <use xlink:href=\"#DejaVuSans-53\"/>\n       <use x=\"63.623047\" xlink:href=\"#DejaVuSans-48\"/>\n       <use x=\"127.246094\" xlink:href=\"#DejaVuSans-48\"/>\n       <use x=\"190.869141\" xlink:href=\"#DejaVuSans-48\"/>\n      </g>\n     </g>\n    </g>\n    <g id=\"xtick_4\">\n     <g id=\"line2d_7\">\n      <path clip-path=\"url(#pd1724c0d76)\" d=\"M 248.852045 240.48 \nL 248.852045 7.2 \n\" style=\"fill:none;stroke:#cbcbcb;\"/>\n     </g>\n     <g id=\"line2d_8\"/>\n     <g id=\"text_4\">\n      <!-- 7500 -->\n      <g transform=\"translate(231.037045 254.617813)scale(0.14 -0.14)\">\n       <defs>\n        <path d=\"M 8.203125 72.90625 \nL 55.078125 72.90625 \nL 55.078125 68.703125 \nL 28.609375 0 \nL 18.3125 0 \nL 43.21875 64.59375 \nL 8.203125 64.59375 \nz\n\" id=\"DejaVuSans-55\"/>\n       </defs>\n       <use xlink:href=\"#DejaVuSans-55\"/>\n       <use x=\"63.623047\" xlink:href=\"#DejaVuSans-53\"/>\n       <use x=\"127.246094\" xlink:href=\"#DejaVuSans-48\"/>\n       <use x=\"190.869141\" xlink:href=\"#DejaVuSans-48\"/>\n      </g>\n     </g>\n    </g>\n    <g id=\"xtick_5\">\n     <g id=\"line2d_9\">\n      <path clip-path=\"url(#pd1724c0d76)\" d=\"M 305.7975 240.48 \nL 305.7975 7.2 \n\" style=\"fill:none;stroke:#cbcbcb;\"/>\n     </g>\n     <g id=\"line2d_10\"/>\n     <g id=\"text_5\">\n      <!-- 10000 -->\n      <g transform=\"translate(283.52875 254.617813)scale(0.14 -0.14)\">\n       <defs>\n        <path d=\"M 12.40625 8.296875 \nL 28.515625 8.296875 \nL 28.515625 63.921875 \nL 10.984375 60.40625 \nL 10.984375 69.390625 \nL 28.421875 72.90625 \nL 38.28125 72.90625 \nL 38.28125 8.296875 \nL 54.390625 8.296875 \nL 54.390625 0 \nL 12.40625 0 \nz\n\" id=\"DejaVuSans-49\"/>\n       </defs>\n       <use xlink:href=\"#DejaVuSans-49\"/>\n       <use x=\"63.623047\" xlink:href=\"#DejaVuSans-48\"/>\n       <use x=\"127.246094\" xlink:href=\"#DejaVuSans-48\"/>\n       <use x=\"190.869141\" xlink:href=\"#DejaVuSans-48\"/>\n       <use x=\"254.492188\" xlink:href=\"#DejaVuSans-48\"/>\n      </g>\n     </g>\n    </g>\n    <g id=\"xtick_6\">\n     <g id=\"line2d_11\">\n      <path clip-path=\"url(#pd1724c0d76)\" d=\"M 362.742955 240.48 \nL 362.742955 7.2 \n\" style=\"fill:none;stroke:#cbcbcb;\"/>\n     </g>\n     <g id=\"line2d_12\"/>\n     <g id=\"text_6\">\n      <!-- 12500 -->\n      <g transform=\"translate(340.474205 254.617813)scale(0.14 -0.14)\">\n       <use xlink:href=\"#DejaVuSans-49\"/>\n       <use x=\"63.623047\" xlink:href=\"#DejaVuSans-50\"/>\n       <use x=\"127.246094\" xlink:href=\"#DejaVuSans-53\"/>\n       <use x=\"190.869141\" xlink:href=\"#DejaVuSans-48\"/>\n       <use x=\"254.492188\" xlink:href=\"#DejaVuSans-48\"/>\n      </g>\n     </g>\n    </g>\n    <g id=\"xtick_7\">\n     <g id=\"line2d_13\">\n      <path clip-path=\"url(#pd1724c0d76)\" d=\"M 419.688409 240.48 \nL 419.688409 7.2 \n\" style=\"fill:none;stroke:#cbcbcb;\"/>\n     </g>\n     <g id=\"line2d_14\"/>\n     <g id=\"text_7\">\n      <!-- 15000 -->\n      <g transform=\"translate(397.419659 254.617813)scale(0.14 -0.14)\">\n       <use xlink:href=\"#DejaVuSans-49\"/>\n       <use x=\"63.623047\" xlink:href=\"#DejaVuSans-53\"/>\n       <use x=\"127.246094\" xlink:href=\"#DejaVuSans-48\"/>\n       <use x=\"190.869141\" xlink:href=\"#DejaVuSans-48\"/>\n       <use x=\"254.492188\" xlink:href=\"#DejaVuSans-48\"/>\n      </g>\n     </g>\n    </g>\n    <g id=\"xtick_8\">\n     <g id=\"line2d_15\">\n      <path clip-path=\"url(#pd1724c0d76)\" d=\"M 476.633864 240.48 \nL 476.633864 7.2 \n\" style=\"fill:none;stroke:#cbcbcb;\"/>\n     </g>\n     <g id=\"line2d_16\"/>\n     <g id=\"text_8\">\n      <!-- 17500 -->\n      <g transform=\"translate(454.365114 254.617813)scale(0.14 -0.14)\">\n       <use xlink:href=\"#DejaVuSans-49\"/>\n       <use x=\"63.623047\" xlink:href=\"#DejaVuSans-55\"/>\n       <use x=\"127.246094\" xlink:href=\"#DejaVuSans-53\"/>\n       <use x=\"190.869141\" xlink:href=\"#DejaVuSans-48\"/>\n       <use x=\"254.492188\" xlink:href=\"#DejaVuSans-48\"/>\n      </g>\n     </g>\n    </g>\n    <g id=\"xtick_9\">\n     <g id=\"line2d_17\">\n      <path clip-path=\"url(#pd1724c0d76)\" d=\"M 533.579318 240.48 \nL 533.579318 7.2 \n\" style=\"fill:none;stroke:#cbcbcb;\"/>\n     </g>\n     <g id=\"line2d_18\"/>\n     <g id=\"text_9\">\n      <!-- 20000 -->\n      <g transform=\"translate(511.310568 254.617813)scale(0.14 -0.14)\">\n       <use xlink:href=\"#DejaVuSans-50\"/>\n       <use x=\"63.623047\" xlink:href=\"#DejaVuSans-48\"/>\n       <use x=\"127.246094\" xlink:href=\"#DejaVuSans-48\"/>\n       <use x=\"190.869141\" xlink:href=\"#DejaVuSans-48\"/>\n       <use x=\"254.492188\" xlink:href=\"#DejaVuSans-48\"/>\n      </g>\n     </g>\n    </g>\n   </g>\n   <g id=\"matplotlib.axis_2\">\n    <g id=\"ytick_1\">\n     <g id=\"line2d_19\">\n      <path clip-path=\"url(#pd1724c0d76)\" d=\"M 55.2375 240.48 \nL 556.3575 240.48 \n\" style=\"fill:none;stroke:#cbcbcb;\"/>\n     </g>\n     <g id=\"line2d_20\"/>\n     <g id=\"text_10\">\n      <!-- 0 -->\n      <g transform=\"translate(42.83 245.798906)scale(0.14 -0.14)\">\n       <use xlink:href=\"#DejaVuSans-48\"/>\n      </g>\n     </g>\n    </g>\n    <g id=\"ytick_2\">\n     <g id=\"line2d_21\">\n      <path clip-path=\"url(#pd1724c0d76)\" d=\"M 55.2375 193.695248 \nL 556.3575 193.695248 \n\" style=\"fill:none;stroke:#cbcbcb;\"/>\n     </g>\n     <g id=\"line2d_22\"/>\n     <g id=\"text_11\">\n      <!-- 5000 -->\n      <g transform=\"translate(16.1075 199.014155)scale(0.14 -0.14)\">\n       <use xlink:href=\"#DejaVuSans-53\"/>\n       <use x=\"63.623047\" xlink:href=\"#DejaVuSans-48\"/>\n       <use x=\"127.246094\" xlink:href=\"#DejaVuSans-48\"/>\n       <use x=\"190.869141\" xlink:href=\"#DejaVuSans-48\"/>\n      </g>\n     </g>\n    </g>\n    <g id=\"ytick_3\">\n     <g id=\"line2d_23\">\n      <path clip-path=\"url(#pd1724c0d76)\" d=\"M 55.2375 146.910497 \nL 556.3575 146.910497 \n\" style=\"fill:none;stroke:#cbcbcb;\"/>\n     </g>\n     <g id=\"line2d_24\"/>\n     <g id=\"text_12\">\n      <!-- 10000 -->\n      <g transform=\"translate(7.2 152.229403)scale(0.14 -0.14)\">\n       <use xlink:href=\"#DejaVuSans-49\"/>\n       <use x=\"63.623047\" xlink:href=\"#DejaVuSans-48\"/>\n       <use x=\"127.246094\" xlink:href=\"#DejaVuSans-48\"/>\n       <use x=\"190.869141\" xlink:href=\"#DejaVuSans-48\"/>\n       <use x=\"254.492188\" xlink:href=\"#DejaVuSans-48\"/>\n      </g>\n     </g>\n    </g>\n    <g id=\"ytick_4\">\n     <g id=\"line2d_25\">\n      <path clip-path=\"url(#pd1724c0d76)\" d=\"M 55.2375 100.125745 \nL 556.3575 100.125745 \n\" style=\"fill:none;stroke:#cbcbcb;\"/>\n     </g>\n     <g id=\"line2d_26\"/>\n     <g id=\"text_13\">\n      <!-- 15000 -->\n      <g transform=\"translate(7.2 105.444651)scale(0.14 -0.14)\">\n       <use xlink:href=\"#DejaVuSans-49\"/>\n       <use x=\"63.623047\" xlink:href=\"#DejaVuSans-53\"/>\n       <use x=\"127.246094\" xlink:href=\"#DejaVuSans-48\"/>\n       <use x=\"190.869141\" xlink:href=\"#DejaVuSans-48\"/>\n       <use x=\"254.492188\" xlink:href=\"#DejaVuSans-48\"/>\n      </g>\n     </g>\n    </g>\n    <g id=\"ytick_5\">\n     <g id=\"line2d_27\">\n      <path clip-path=\"url(#pd1724c0d76)\" d=\"M 55.2375 53.340993 \nL 556.3575 53.340993 \n\" style=\"fill:none;stroke:#cbcbcb;\"/>\n     </g>\n     <g id=\"line2d_28\"/>\n     <g id=\"text_14\">\n      <!-- 20000 -->\n      <g transform=\"translate(7.2 58.6599)scale(0.14 -0.14)\">\n       <use xlink:href=\"#DejaVuSans-50\"/>\n       <use x=\"63.623047\" xlink:href=\"#DejaVuSans-48\"/>\n       <use x=\"127.246094\" xlink:href=\"#DejaVuSans-48\"/>\n       <use x=\"190.869141\" xlink:href=\"#DejaVuSans-48\"/>\n       <use x=\"254.492188\" xlink:href=\"#DejaVuSans-48\"/>\n      </g>\n     </g>\n    </g>\n   </g>\n   <g id=\"patch_3\">\n    <path clip-path=\"url(#pd1724c0d76)\" d=\"M 78.015682 240.48 \nL 96.238227 240.48 \nL 96.238227 18.308571 \nL 78.015682 18.308571 \nz\n\" style=\"fill:#ff0000;\"/>\n   </g>\n   <g id=\"patch_4\">\n    <path clip-path=\"url(#pd1724c0d76)\" d=\"M 96.238227 240.48 \nL 114.460773 240.48 \nL 114.460773 190.242534 \nL 96.238227 190.242534 \nz\n\" style=\"fill:#ff0000;\"/>\n   </g>\n   <g id=\"patch_5\">\n    <path clip-path=\"url(#pd1724c0d76)\" d=\"M 114.460773 240.48 \nL 132.683318 240.48 \nL 132.683318 197.746808 \nL 114.460773 197.746808 \nz\n\" style=\"fill:#ff0000;\"/>\n   </g>\n   <g id=\"patch_6\">\n    <path clip-path=\"url(#pd1724c0d76)\" d=\"M 132.683318 240.48 \nL 150.905864 240.48 \nL 150.905864 200.843958 \nL 132.683318 200.843958 \nz\n\" style=\"fill:#ff0000;\"/>\n   </g>\n   <g id=\"patch_7\">\n    <path clip-path=\"url(#pd1724c0d76)\" d=\"M 150.905864 240.48 \nL 169.128409 240.48 \nL 169.128409 187.837797 \nL 150.905864 187.837797 \nz\n\" style=\"fill:#ff0000;\"/>\n   </g>\n   <g id=\"patch_8\">\n    <path clip-path=\"url(#pd1724c0d76)\" d=\"M 169.128409 240.48 \nL 187.350955 240.48 \nL 187.350955 167.832638 \nL 169.128409 167.832638 \nz\n\" style=\"fill:#ff0000;\"/>\n   </g>\n   <g id=\"patch_9\">\n    <path clip-path=\"url(#pd1724c0d76)\" d=\"M 187.350955 240.48 \nL 205.5735 240.48 \nL 205.5735 152.356242 \nL 187.350955 152.356242 \nz\n\" style=\"fill:#ff0000;\"/>\n   </g>\n   <g id=\"patch_10\">\n    <path clip-path=\"url(#pd1724c0d76)\" d=\"M 205.5735 240.48 \nL 223.796045 240.48 \nL 223.796045 166.008032 \nL 205.5735 166.008032 \nz\n\" style=\"fill:#ff0000;\"/>\n   </g>\n   <g id=\"patch_11\">\n    <path clip-path=\"url(#pd1724c0d76)\" d=\"M 223.796045 240.48 \nL 242.018591 240.48 \nL 242.018591 170.3403 \nL 223.796045 170.3403 \nz\n\" style=\"fill:#ff0000;\"/>\n   </g>\n   <g id=\"patch_12\">\n    <path clip-path=\"url(#pd1724c0d76)\" d=\"M 242.018591 240.48 \nL 260.241136 240.48 \nL 260.241136 188.249503 \nL 242.018591 188.249503 \nz\n\" style=\"fill:#ff0000;\"/>\n   </g>\n   <g id=\"patch_13\">\n    <path clip-path=\"url(#pd1724c0d76)\" d=\"M 260.241136 240.48 \nL 278.463682 240.48 \nL 278.463682 211.510882 \nL 260.241136 211.510882 \nz\n\" style=\"fill:#ff0000;\"/>\n   </g>\n   <g id=\"patch_14\">\n    <path clip-path=\"url(#pd1724c0d76)\" d=\"M 278.463682 240.48 \nL 296.686227 240.48 \nL 296.686227 221.195325 \nL 278.463682 221.195325 \nz\n\" style=\"fill:#ff0000;\"/>\n   </g>\n   <g id=\"patch_15\">\n    <path clip-path=\"url(#pd1724c0d76)\" d=\"M 296.686227 240.48 \nL 314.908773 240.48 \nL 314.908773 222.336873 \nL 296.686227 222.336873 \nz\n\" style=\"fill:#ff0000;\"/>\n   </g>\n   <g id=\"patch_16\">\n    <path clip-path=\"url(#pd1724c0d76)\" d=\"M 314.908773 240.48 \nL 333.131318 240.48 \nL 333.131318 223.571991 \nL 314.908773 223.571991 \nz\n\" style=\"fill:#ff0000;\"/>\n   </g>\n   <g id=\"patch_17\">\n    <path clip-path=\"url(#pd1724c0d76)\" d=\"M 333.131318 240.48 \nL 351.353864 240.48 \nL 351.353864 226.191937 \nL 333.131318 226.191937 \nz\n\" style=\"fill:#ff0000;\"/>\n   </g>\n   <g id=\"patch_18\">\n    <path clip-path=\"url(#pd1724c0d76)\" d=\"M 351.353864 240.48 \nL 369.576409 240.48 \nL 369.576409 229.756935 \nL 351.353864 229.756935 \nz\n\" style=\"fill:#ff0000;\"/>\n   </g>\n   <g id=\"patch_19\">\n    <path clip-path=\"url(#pd1724c0d76)\" d=\"M 369.576409 240.48 \nL 387.798955 240.48 \nL 387.798955 231.637682 \nL 369.576409 231.637682 \nz\n\" style=\"fill:#ff0000;\"/>\n   </g>\n   <g id=\"patch_20\">\n    <path clip-path=\"url(#pd1724c0d76)\" d=\"M 387.798955 240.48 \nL 406.0215 240.48 \nL 406.0215 231.955818 \nL 387.798955 231.955818 \nz\n\" style=\"fill:#ff0000;\"/>\n   </g>\n   <g id=\"patch_21\">\n    <path clip-path=\"url(#pd1724c0d76)\" d=\"M 406.0215 240.48 \nL 424.244045 240.48 \nL 424.244045 234.388625 \nL 406.0215 234.388625 \nz\n\" style=\"fill:#ff0000;\"/>\n   </g>\n   <g id=\"patch_22\">\n    <path clip-path=\"url(#pd1724c0d76)\" d=\"M 424.244045 240.48 \nL 442.466591 240.48 \nL 442.466591 235.895094 \nL 424.244045 235.895094 \nz\n\" style=\"fill:#ff0000;\"/>\n   </g>\n   <g id=\"patch_23\">\n    <path clip-path=\"url(#pd1724c0d76)\" d=\"M 442.466591 240.48 \nL 460.689136 240.48 \nL 460.689136 237.382849 \nL 442.466591 237.382849 \nz\n\" style=\"fill:#ff0000;\"/>\n   </g>\n   <g id=\"patch_24\">\n    <path clip-path=\"url(#pd1724c0d76)\" d=\"M 460.689136 240.48 \nL 478.911682 240.48 \nL 478.911682 237.906839 \nL 460.689136 237.906839 \nz\n\" style=\"fill:#ff0000;\"/>\n   </g>\n   <g id=\"patch_25\">\n    <path clip-path=\"url(#pd1724c0d76)\" d=\"M 478.911682 240.48 \nL 497.134227 240.48 \nL 497.134227 237.401563 \nL 478.911682 237.401563 \nz\n\" style=\"fill:#ff0000;\"/>\n   </g>\n   <g id=\"patch_26\">\n    <path clip-path=\"url(#pd1724c0d76)\" d=\"M 497.134227 240.48 \nL 515.356773 240.48 \nL 515.356773 237.785198 \nL 497.134227 237.785198 \nz\n\" style=\"fill:#ff0000;\"/>\n   </g>\n   <g id=\"patch_27\">\n    <path clip-path=\"url(#pd1724c0d76)\" d=\"M 515.356773 240.48 \nL 533.579318 240.48 \nL 533.579318 238.019122 \nL 515.356773 238.019122 \nz\n\" style=\"fill:#ff0000;\"/>\n   </g>\n   <g id=\"patch_28\">\n    <path d=\"M 55.2375 240.48 \nL 55.2375 7.2 \n\" style=\"fill:none;stroke:#f0f0f0;stroke-linecap:square;stroke-linejoin:miter;stroke-width:3;\"/>\n   </g>\n   <g id=\"patch_29\">\n    <path d=\"M 556.3575 240.48 \nL 556.3575 7.2 \n\" style=\"fill:none;stroke:#f0f0f0;stroke-linecap:square;stroke-linejoin:miter;stroke-width:3;\"/>\n   </g>\n   <g id=\"patch_30\">\n    <path d=\"M 55.2375 240.48 \nL 556.3575 240.48 \n\" style=\"fill:none;stroke:#f0f0f0;stroke-linecap:square;stroke-linejoin:miter;stroke-width:3;\"/>\n   </g>\n   <g id=\"patch_31\">\n    <path d=\"M 55.2375 7.2 \nL 556.3575 7.2 \n\" style=\"fill:none;stroke:#f0f0f0;stroke-linecap:square;stroke-linejoin:miter;stroke-width:3;\"/>\n   </g>\n  </g>\n </g>\n <defs>\n  <clipPath id=\"pd1724c0d76\">\n   <rect height=\"233.28\" width=\"501.12\" x=\"55.2375\" y=\"7.2\"/>\n  </clipPath>\n </defs>\n</svg>\n",
      "image/png": "[encoded data removed]"
     },
     "metadata": {}
    }
   ],
   "source": [
    "plt.hist(sly.order_book['askAmount'], bins=25, range=(0, 20000), color='red');"
   ]
  },
  {
   "source": [
    "On the other hand, the limit orders amounts in top 5 levels are very differentianed as expected. These values contain a lot of outliers, which means that order sizes are irregular and prone to current market conditions and one's inventory needs. However, vast majority of transactions have small order sizes. \n",
    "\n",
    "To perform modelling task and further analysis, the dataset should be divided into train and test part. Due to relatively short period of daily data and intraday character of this challenge, I decided to account 90% (rounded to the full day) of the dataset for train period. This way I assure that I have enough data for training a model and to spot some trends as well as intraday movements.  "
   ],
   "cell_type": "markdown",
   "metadata": {}
  },
  {
   "cell_type": "code",
   "execution_count": 9,
   "metadata": {},
   "outputs": [
    {
     "output_type": "stream",
     "name": "stdout",
     "text": [
      "Train start:  2020-07-17 00:00:00\nTrain end:  2020-07-29 23:59:00\nTest start:  2020-07-30 00:00:00\nTest end:  2020-07-30 23:59:00\n"
     ]
    }
   ],
   "source": [
    "sly.train_test_split(train_pct=0.9)\n",
    "\n",
    "print(\"Train start: \", sly.train_start) \n",
    "print(\"Train end: \", sly.train_end)\n",
    "print(\"Test start: \", sly.test_start) \n",
    "print(\"Test end: \", sly.test_end)"
   ]
  },
  {
   "source": [
    "Such a division results in 13 days of train data and 1 day of test data."
   ],
   "cell_type": "markdown",
   "metadata": {}
  },
  {
   "source": [
    "## Signal and features creation\n",
    "\n",
    "In order to create a model, one needs to choose what will be the scope of modelling. I decided that I will try to model the price impact of order book structure. This topic is thoroughly described in the literature. The aim was to spot the realtionship between changes in bid-ask amounts across top order book levels and mid price (mean of the best bid and offer price). \n",
    "\n",
    "The basic intuition and what's more the hypothesis of this task was that if at a given time $t$ the total size of orders at sell side is bigger than the size at buy side by some threshold $\\tau$, we should expect the mid price ($\\frac{BestBid+BestAsk}{2}$) to go down in the near short period and vice versa. \n",
    "\n",
    "To calculate the realationship between bid and ask total sizes at time $t$, I employed Order Book Pressure metric:\n",
    "\n",
    "$$ OBP(n, l) = \\frac{ \\sum_{i=0}^{n} \\sum_{j=1}^{l} BidSize_{j,t-i} }{ \\sum_{i=0}^{n} \\sum_{j=1}^{l} AskSize_{j,t-i} } $$\n",
    "\n",
    "This metric can be interpreted as a ratio between total bid and ask amounts over $l$ order book levels in the last $n$ time bars.\n",
    "\n",
    "Although such form of the metric is flexible, it also requires some way of parameter tuning, because with different $n$ and $l$ values we may obtain completely different OBP. Thus I decided to form several features with different parameter values to avoid parameter optimization and expanded the analysis scope to spot differences among different order book depths and memory times. \n",
    "\n",
    "I chose $[1, 2, 3, 4, 5]$ for $l$ and $[1, 2, 3, 5, 10, 15]$ for $n$ as proposed in the literature. Then I combined each $OBP(n, l)$ variation and form 30 different features that will be treated as independent variables in modelling task.\n",
    "\n",
    "On the other hand, the signal value which is our dependent variable will be a categorical variable that is equal to 1 if the mid price go up by some threshold $\\tau$, 0 if the mid price change from time bar $t-1$ to time bar $t$ is within $(-\\tau, \\tau)$ range, and finally -1 if the mid price change is smaller than $-\\tau$. \n",
    "\n",
    "The potential difficulty may be associated with the calculation of the $\\tau$ threshold. I set the threshold arbitrally and automatically in my code by simply taking the average of absolute values of 0.4 and 0.6 quantiles of mid price percentage change from bar to bar over training period. The formula I proposed is as follows:\n",
    "\n",
    "$$ MidRet_{t} = \\frac{MidPrice_{t} - MidPrice_{t-1}}{MidPrice_{t-1}} $$\n",
    "$$ MidRet_{train} = \\sum_{i}^{t} MidRet_{i} $$\n",
    "$$ \\tau = \\frac{|q_{0.6}(MidRet_{train})| + |q_{0.4}(MidRet_{train})|}{2} $$\n",
    "\n",
    "I created above formula to quantify the mid price changes over train period. Hence the threshold is data driven and can adjust to different market scenarios. In my opinion the selection of 0.4 and 0.6 qunatiles allows to spot any promising movements, while still gives some robust security level, so that the signal won't change when small price movements occured. \n",
    "\n",
    "This assumption and threshold formula are crucial for modelling task and should be investigated deeper in the future. The threshold $\\tau$ value can be also treated as a separate parameter to optimize.\n",
    "\n",
    "Let's print example signal values:\n",
    "\n",
    "\n"
   ],
   "cell_type": "markdown",
   "metadata": {}
  },
  {
   "cell_type": "code",
   "execution_count": 10,
   "metadata": {},
   "outputs": [
    {
     "output_type": "execute_result",
     "data": {
      "text/plain": [
       "timeStamp\n",
       "2020-07-17 00:00:00    0\n",
       "2020-07-17 00:01:00   -1\n",
       "2020-07-17 00:02:00    0\n",
       "2020-07-17 00:03:00    1\n",
       "2020-07-17 00:04:00   -1\n",
       "Name: signal, dtype: int64"
      ]
     },
     "metadata": {},
     "execution_count": 10
    }
   ],
   "source": [
    "y = sly.create_signal(thres=None)\n",
    "y.head()\n"
   ]
  },
  {
   "cell_type": "code",
   "execution_count": 11,
   "metadata": {},
   "outputs": [
    {
     "output_type": "execute_result",
     "data": {
      "text/plain": [
       "timeStamp\n",
       "2020-07-30 23:55:00   -1\n",
       "2020-07-30 23:56:00    0\n",
       "2020-07-30 23:57:00   -1\n",
       "2020-07-30 23:58:00   -1\n",
       "2020-07-30 23:59:00   -1\n",
       "Name: signal, dtype: int64"
      ]
     },
     "metadata": {},
     "execution_count": 11
    }
   ],
   "source": [
    "y.tail()"
   ]
  },
  {
   "cell_type": "code",
   "execution_count": 12,
   "metadata": {},
   "outputs": [
    {
     "output_type": "execute_result",
     "data": {
      "text/plain": [
       "-1    7565\n",
       " 1    7551\n",
       " 0    5044\n",
       "Name: signal, dtype: int64"
      ]
     },
     "metadata": {},
     "execution_count": 12
    }
   ],
   "source": [
    "y.value_counts()"
   ]
  },
  {
   "source": [
    "As it may be observed the number of signal values that are -1 are nearly the same as number of signals that are 1. The value of 0 is less frequent which is a direct consequence of applying 0.4 and 0.6 quantiles in threshold calculation. "
   ],
   "cell_type": "markdown",
   "metadata": {}
  },
  {
   "cell_type": "code",
   "execution_count": 13,
   "metadata": {},
   "outputs": [
    {
     "output_type": "execute_result",
     "data": {
      "text/plain": [
       "                        obp_1_1     obp_1_2     obp_1_3     obp_1_5  \\\n",
       "timeStamp                                                             \n",
       "2020-07-17 00:00:00  0.67885506  0.67885506  0.67885506  0.67885506   \n",
       "2020-07-17 00:01:00  1.00000000  0.81081871  0.81081871  0.81081871   \n",
       "2020-07-17 00:02:00  1.07684581  1.03732618  0.88519871  0.88519871   \n",
       "2020-07-17 00:03:00  0.00058936  0.39855140  0.56776777  0.59969566   \n",
       "2020-07-17 00:04:00  0.00100326  0.00074253  0.29113581  0.50427726   \n",
       "\n",
       "                       obp_1_10    obp_1_15     obp_2_1     obp_2_2  \\\n",
       "timeStamp                                                             \n",
       "2020-07-17 00:00:00  0.67885506  0.67885506  0.92500246  0.92500246   \n",
       "2020-07-17 00:01:00  0.81081871  0.81081871  1.84876481  1.22907576   \n",
       "2020-07-17 00:02:00  0.88519871  0.88519871  1.27672022  1.45758192   \n",
       "2020-07-17 00:03:00  0.59969566  0.59969566  0.36463504  0.79061497   \n",
       "2020-07-17 00:04:00  0.50427726  0.50427726  0.39140523  0.37714087   \n",
       "\n",
       "                        obp_2_3     obp_2_5  ...     obp_4_3     obp_4_5  \\\n",
       "timeStamp                                    ...                           \n",
       "2020-07-17 00:00:00  0.92500246  0.92500246  ...  1.12252171  1.12252171   \n",
       "2020-07-17 00:01:00  1.22907576  1.22907576  ...  1.29378724  1.29378724   \n",
       "2020-07-17 00:02:00  1.24888975  1.24888975  ...  1.68330295  1.68330295   \n",
       "2020-07-17 00:03:00  0.97852837  0.96430442  ...  1.99548552  1.81265012   \n",
       "2020-07-17 00:04:00  0.66348428  0.83822869  ...  1.74355683  1.53450517   \n",
       "\n",
       "                       obp_4_10    obp_4_15     obp_5_1     obp_5_2  \\\n",
       "timeStamp                                                             \n",
       "2020-07-17 00:00:00  1.12252171  1.12252171  0.61071624  0.61071624   \n",
       "2020-07-17 00:01:00  1.29378724  1.29378724  1.39311936  0.95403639   \n",
       "2020-07-17 00:02:00  1.68330295  1.68330295  2.85434856  1.89084077   \n",
       "2020-07-17 00:03:00  1.81265012  1.81265012  1.49713944  2.02212216   \n",
       "2020-07-17 00:04:00  1.53450517  1.53450517  0.90967588  1.21956218   \n",
       "\n",
       "                        obp_5_3     obp_5_5    obp_5_10    obp_5_15  \n",
       "timeStamp                                                            \n",
       "2020-07-17 00:00:00  0.61071624  0.61071624  0.61071624  0.61071624  \n",
       "2020-07-17 00:01:00  0.95403639  0.95403639  0.95403639  0.95403639  \n",
       "2020-07-17 00:02:00  1.30518904  1.30518904  1.30518904  1.30518904  \n",
       "2020-07-17 00:03:00  1.75279570  1.34867816  1.34867816  1.34867816  \n",
       "2020-07-17 00:04:00  1.62772699  1.27461623  1.27461623  1.27461623  \n",
       "\n",
       "[5 rows x 30 columns]"
      ],
      "text/html": "<div>\n<style scoped>\n    .dataframe tbody tr th:only-of-type {\n        vertical-align: middle;\n    }\n\n    .dataframe tbody tr th {\n        vertical-align: top;\n    }\n\n    .dataframe thead th {\n        text-align: right;\n    }\n</style>\n<table border=\"1\" class=\"dataframe\">\n  <thead>\n    <tr style=\"text-align: right;\">\n      <th></th>\n      <th>obp_1_1</th>\n      <th>obp_1_2</th>\n      <th>obp_1_3</th>\n      <th>obp_1_5</th>\n      <th>obp_1_10</th>\n      <th>obp_1_15</th>\n      <th>obp_2_1</th>\n      <th>obp_2_2</th>\n      <th>obp_2_3</th>\n      <th>obp_2_5</th>\n      <th>...</th>\n      <th>obp_4_3</th>\n      <th>obp_4_5</th>\n      <th>obp_4_10</th>\n      <th>obp_4_15</th>\n      <th>obp_5_1</th>\n      <th>obp_5_2</th>\n      <th>obp_5_3</th>\n      <th>obp_5_5</th>\n      <th>obp_5_10</th>\n      <th>obp_5_15</th>\n    </tr>\n    <tr>\n      <th>timeStamp</th>\n      <th></th>\n      <th></th>\n      <th></th>\n      <th></th>\n      <th></th>\n      <th></th>\n      <th></th>\n      <th></th>\n      <th></th>\n      <th></th>\n      <th></th>\n      <th></th>\n      <th></th>\n      <th></th>\n      <th></th>\n      <th></th>\n      <th></th>\n      <th></th>\n      <th></th>\n      <th></th>\n      <th></th>\n    </tr>\n  </thead>\n  <tbody>\n    <tr>\n      <th>2020-07-17 00:00:00</th>\n      <td>0.67885506</td>\n      <td>0.67885506</td>\n      <td>0.67885506</td>\n      <td>0.67885506</td>\n      <td>0.67885506</td>\n      <td>0.67885506</td>\n      <td>0.92500246</td>\n      <td>0.92500246</td>\n      <td>0.92500246</td>\n      <td>0.92500246</td>\n      <td>...</td>\n      <td>1.12252171</td>\n      <td>1.12252171</td>\n      <td>1.12252171</td>\n      <td>1.12252171</td>\n      <td>0.61071624</td>\n      <td>0.61071624</td>\n      <td>0.61071624</td>\n      <td>0.61071624</td>\n      <td>0.61071624</td>\n      <td>0.61071624</td>\n    </tr>\n    <tr>\n      <th>2020-07-17 00:01:00</th>\n      <td>1.00000000</td>\n      <td>0.81081871</td>\n      <td>0.81081871</td>\n      <td>0.81081871</td>\n      <td>0.81081871</td>\n      <td>0.81081871</td>\n      <td>1.84876481</td>\n      <td>1.22907576</td>\n      <td>1.22907576</td>\n      <td>1.22907576</td>\n      <td>...</td>\n      <td>1.29378724</td>\n      <td>1.29378724</td>\n      <td>1.29378724</td>\n      <td>1.29378724</td>\n      <td>1.39311936</td>\n      <td>0.95403639</td>\n      <td>0.95403639</td>\n      <td>0.95403639</td>\n      <td>0.95403639</td>\n      <td>0.95403639</td>\n    </tr>\n    <tr>\n      <th>2020-07-17 00:02:00</th>\n      <td>1.07684581</td>\n      <td>1.03732618</td>\n      <td>0.88519871</td>\n      <td>0.88519871</td>\n      <td>0.88519871</td>\n      <td>0.88519871</td>\n      <td>1.27672022</td>\n      <td>1.45758192</td>\n      <td>1.24888975</td>\n      <td>1.24888975</td>\n      <td>...</td>\n      <td>1.68330295</td>\n      <td>1.68330295</td>\n      <td>1.68330295</td>\n      <td>1.68330295</td>\n      <td>2.85434856</td>\n      <td>1.89084077</td>\n      <td>1.30518904</td>\n      <td>1.30518904</td>\n      <td>1.30518904</td>\n      <td>1.30518904</td>\n    </tr>\n    <tr>\n      <th>2020-07-17 00:03:00</th>\n      <td>0.00058936</td>\n      <td>0.39855140</td>\n      <td>0.56776777</td>\n      <td>0.59969566</td>\n      <td>0.59969566</td>\n      <td>0.59969566</td>\n      <td>0.36463504</td>\n      <td>0.79061497</td>\n      <td>0.97852837</td>\n      <td>0.96430442</td>\n      <td>...</td>\n      <td>1.99548552</td>\n      <td>1.81265012</td>\n      <td>1.81265012</td>\n      <td>1.81265012</td>\n      <td>1.49713944</td>\n      <td>2.02212216</td>\n      <td>1.75279570</td>\n      <td>1.34867816</td>\n      <td>1.34867816</td>\n      <td>1.34867816</td>\n    </tr>\n    <tr>\n      <th>2020-07-17 00:04:00</th>\n      <td>0.00100326</td>\n      <td>0.00074253</td>\n      <td>0.29113581</td>\n      <td>0.50427726</td>\n      <td>0.50427726</td>\n      <td>0.50427726</td>\n      <td>0.39140523</td>\n      <td>0.37714087</td>\n      <td>0.66348428</td>\n      <td>0.83822869</td>\n      <td>...</td>\n      <td>1.74355683</td>\n      <td>1.53450517</td>\n      <td>1.53450517</td>\n      <td>1.53450517</td>\n      <td>0.90967588</td>\n      <td>1.21956218</td>\n      <td>1.62772699</td>\n      <td>1.27461623</td>\n      <td>1.27461623</td>\n      <td>1.27461623</td>\n    </tr>\n  </tbody>\n</table>\n<p>5 rows × 30 columns</p>\n</div>"
     },
     "metadata": {},
     "execution_count": 13
    }
   ],
   "source": [
    "X = sly.create_features(l_values=[1, 2, 3, 4, 5], t_values=[1, 2, 3, 5, 10, 15]) \n",
    "X.head()"
   ]
  },
  {
   "cell_type": "code",
   "execution_count": 14,
   "metadata": {},
   "outputs": [
    {
     "output_type": "execute_result",
     "data": {
      "text/plain": [
       "              obp_1_1         obp_1_2         obp_1_3         obp_1_5  \\\n",
       "count  20160.00000000  20160.00000000  20160.00000000  20160.00000000   \n",
       "mean     101.10865247     47.68739281     29.51914276     14.87726256   \n",
       "std      746.25732504    486.46047257    416.30268076    324.50653117   \n",
       "min        0.00000269      0.00007604      0.00011351      0.00012061   \n",
       "25%        0.05871314      0.19736240      0.28187576      0.35165361   \n",
       "50%        0.83633260      0.83514836      0.83845301      0.85057708   \n",
       "75%        5.18765316      2.72648106      2.28152207      1.90982431   \n",
       "max    49547.40000000  21800.00000000  21800.00000000  21800.00000000   \n",
       "\n",
       "             obp_1_10        obp_1_15         obp_2_1         obp_2_2  \\\n",
       "count  20160.00000000  20160.00000000  20160.00000000  20160.00000000   \n",
       "mean       3.96274443      1.66472906     17.85013064      8.14509161   \n",
       "std       94.87616927      6.33399028    271.79281903    157.64550360   \n",
       "min        0.00082784      0.00136921      0.00008965      0.00018120   \n",
       "25%        0.43197251      0.47854180      0.30989973      0.37916051   \n",
       "50%        0.86340647      0.86798631      0.82630075      0.82796441   \n",
       "75%        1.62548514      1.50941327      2.16633226      1.81924613   \n",
       "max     7765.66355140    246.06101695  27527.55555556  12588.87500000   \n",
       "\n",
       "              obp_2_3         obp_2_5  ...         obp_4_3         obp_4_5  \\\n",
       "count  20160.00000000  20160.00000000  ...  20160.00000000  20160.00000000   \n",
       "mean       5.53571216      3.41776588  ...      1.24817700      1.16020437   \n",
       "std      137.38735939    102.40402422  ...      1.82677698      1.21916162   \n",
       "min        0.00021760      0.00078392  ...      0.00812106      0.03884264   \n",
       "25%        0.41347016      0.45058711  ...      0.54127982      0.56752086   \n",
       "50%        0.82844586      0.83896658  ...      0.88192968      0.88458558   \n",
       "75%        1.67592191      1.53530428  ...      1.43383144      1.37140658   \n",
       "max    12588.87500000   9508.07500000  ...    115.19258203     44.92672692   \n",
       "\n",
       "             obp_4_10        obp_4_15         obp_5_1         obp_5_2  \\\n",
       "count  20160.00000000  20160.00000000  20160.00000000  20160.00000000   \n",
       "mean       1.09582639      1.06888856      1.53814139      1.23550812   \n",
       "std        0.95136621      0.85385363      6.18280009      1.59607516   \n",
       "min        0.04233707      0.04725192      0.00054150      0.00714870   \n",
       "25%        0.59538012      0.61627925      0.54855957      0.58194942   \n",
       "50%        0.89539164      0.89362090      0.91907408      0.92249177   \n",
       "75%        1.29703539      1.26301494      1.53664324      1.45373519   \n",
       "max       24.19672808     18.64384391    554.87272727     81.87630890   \n",
       "\n",
       "              obp_5_3         obp_5_5        obp_5_10        obp_5_15  \n",
       "count  20160.00000000  20160.00000000  20160.00000000  20160.00000000  \n",
       "mean       1.17863761      1.13110861      1.08867339      1.06853883  \n",
       "std        1.16903695      0.94999673      0.77979107      0.70250591  \n",
       "min        0.01003087      0.04519555      0.05153388      0.05810598  \n",
       "25%        0.60001425      0.62328532      0.64984754      0.66605372  \n",
       "50%        0.92976194      0.93557914      0.93759146      0.93474131  \n",
       "75%        1.42021568      1.37348450      1.31212898      1.27955001  \n",
       "max       41.02457885     32.54477437     19.67221170     13.70348653  \n",
       "\n",
       "[8 rows x 30 columns]"
      ],
      "text/html": "<div>\n<style scoped>\n    .dataframe tbody tr th:only-of-type {\n        vertical-align: middle;\n    }\n\n    .dataframe tbody tr th {\n        vertical-align: top;\n    }\n\n    .dataframe thead th {\n        text-align: right;\n    }\n</style>\n<table border=\"1\" class=\"dataframe\">\n  <thead>\n    <tr style=\"text-align: right;\">\n      <th></th>\n      <th>obp_1_1</th>\n      <th>obp_1_2</th>\n      <th>obp_1_3</th>\n      <th>obp_1_5</th>\n      <th>obp_1_10</th>\n      <th>obp_1_15</th>\n      <th>obp_2_1</th>\n      <th>obp_2_2</th>\n      <th>obp_2_3</th>\n      <th>obp_2_5</th>\n      <th>...</th>\n      <th>obp_4_3</th>\n      <th>obp_4_5</th>\n      <th>obp_4_10</th>\n      <th>obp_4_15</th>\n      <th>obp_5_1</th>\n      <th>obp_5_2</th>\n      <th>obp_5_3</th>\n      <th>obp_5_5</th>\n      <th>obp_5_10</th>\n      <th>obp_5_15</th>\n    </tr>\n  </thead>\n  <tbody>\n    <tr>\n      <th>count</th>\n      <td>20160.00000000</td>\n      <td>20160.00000000</td>\n      <td>20160.00000000</td>\n      <td>20160.00000000</td>\n      <td>20160.00000000</td>\n      <td>20160.00000000</td>\n      <td>20160.00000000</td>\n      <td>20160.00000000</td>\n      <td>20160.00000000</td>\n      <td>20160.00000000</td>\n      <td>...</td>\n      <td>20160.00000000</td>\n      <td>20160.00000000</td>\n      <td>20160.00000000</td>\n      <td>20160.00000000</td>\n      <td>20160.00000000</td>\n      <td>20160.00000000</td>\n      <td>20160.00000000</td>\n      <td>20160.00000000</td>\n      <td>20160.00000000</td>\n      <td>20160.00000000</td>\n    </tr>\n    <tr>\n      <th>mean</th>\n      <td>101.10865247</td>\n      <td>47.68739281</td>\n      <td>29.51914276</td>\n      <td>14.87726256</td>\n      <td>3.96274443</td>\n      <td>1.66472906</td>\n      <td>17.85013064</td>\n      <td>8.14509161</td>\n      <td>5.53571216</td>\n      <td>3.41776588</td>\n      <td>...</td>\n      <td>1.24817700</td>\n      <td>1.16020437</td>\n      <td>1.09582639</td>\n      <td>1.06888856</td>\n      <td>1.53814139</td>\n      <td>1.23550812</td>\n      <td>1.17863761</td>\n      <td>1.13110861</td>\n      <td>1.08867339</td>\n      <td>1.06853883</td>\n    </tr>\n    <tr>\n      <th>std</th>\n      <td>746.25732504</td>\n      <td>486.46047257</td>\n      <td>416.30268076</td>\n      <td>324.50653117</td>\n      <td>94.87616927</td>\n      <td>6.33399028</td>\n      <td>271.79281903</td>\n      <td>157.64550360</td>\n      <td>137.38735939</td>\n      <td>102.40402422</td>\n      <td>...</td>\n      <td>1.82677698</td>\n      <td>1.21916162</td>\n      <td>0.95136621</td>\n      <td>0.85385363</td>\n      <td>6.18280009</td>\n      <td>1.59607516</td>\n      <td>1.16903695</td>\n      <td>0.94999673</td>\n      <td>0.77979107</td>\n      <td>0.70250591</td>\n    </tr>\n    <tr>\n      <th>min</th>\n      <td>0.00000269</td>\n      <td>0.00007604</td>\n      <td>0.00011351</td>\n      <td>0.00012061</td>\n      <td>0.00082784</td>\n      <td>0.00136921</td>\n      <td>0.00008965</td>\n      <td>0.00018120</td>\n      <td>0.00021760</td>\n      <td>0.00078392</td>\n      <td>...</td>\n      <td>0.00812106</td>\n      <td>0.03884264</td>\n      <td>0.04233707</td>\n      <td>0.04725192</td>\n      <td>0.00054150</td>\n      <td>0.00714870</td>\n      <td>0.01003087</td>\n      <td>0.04519555</td>\n      <td>0.05153388</td>\n      <td>0.05810598</td>\n    </tr>\n    <tr>\n      <th>25%</th>\n      <td>0.05871314</td>\n      <td>0.19736240</td>\n      <td>0.28187576</td>\n      <td>0.35165361</td>\n      <td>0.43197251</td>\n      <td>0.47854180</td>\n      <td>0.30989973</td>\n      <td>0.37916051</td>\n      <td>0.41347016</td>\n      <td>0.45058711</td>\n      <td>...</td>\n      <td>0.54127982</td>\n      <td>0.56752086</td>\n      <td>0.59538012</td>\n      <td>0.61627925</td>\n      <td>0.54855957</td>\n      <td>0.58194942</td>\n      <td>0.60001425</td>\n      <td>0.62328532</td>\n      <td>0.64984754</td>\n      <td>0.66605372</td>\n    </tr>\n    <tr>\n      <th>50%</th>\n      <td>0.83633260</td>\n      <td>0.83514836</td>\n      <td>0.83845301</td>\n      <td>0.85057708</td>\n      <td>0.86340647</td>\n      <td>0.86798631</td>\n      <td>0.82630075</td>\n      <td>0.82796441</td>\n      <td>0.82844586</td>\n      <td>0.83896658</td>\n      <td>...</td>\n      <td>0.88192968</td>\n      <td>0.88458558</td>\n      <td>0.89539164</td>\n      <td>0.89362090</td>\n      <td>0.91907408</td>\n      <td>0.92249177</td>\n      <td>0.92976194</td>\n      <td>0.93557914</td>\n      <td>0.93759146</td>\n      <td>0.93474131</td>\n    </tr>\n    <tr>\n      <th>75%</th>\n      <td>5.18765316</td>\n      <td>2.72648106</td>\n      <td>2.28152207</td>\n      <td>1.90982431</td>\n      <td>1.62548514</td>\n      <td>1.50941327</td>\n      <td>2.16633226</td>\n      <td>1.81924613</td>\n      <td>1.67592191</td>\n      <td>1.53530428</td>\n      <td>...</td>\n      <td>1.43383144</td>\n      <td>1.37140658</td>\n      <td>1.29703539</td>\n      <td>1.26301494</td>\n      <td>1.53664324</td>\n      <td>1.45373519</td>\n      <td>1.42021568</td>\n      <td>1.37348450</td>\n      <td>1.31212898</td>\n      <td>1.27955001</td>\n    </tr>\n    <tr>\n      <th>max</th>\n      <td>49547.40000000</td>\n      <td>21800.00000000</td>\n      <td>21800.00000000</td>\n      <td>21800.00000000</td>\n      <td>7765.66355140</td>\n      <td>246.06101695</td>\n      <td>27527.55555556</td>\n      <td>12588.87500000</td>\n      <td>12588.87500000</td>\n      <td>9508.07500000</td>\n      <td>...</td>\n      <td>115.19258203</td>\n      <td>44.92672692</td>\n      <td>24.19672808</td>\n      <td>18.64384391</td>\n      <td>554.87272727</td>\n      <td>81.87630890</td>\n      <td>41.02457885</td>\n      <td>32.54477437</td>\n      <td>19.67221170</td>\n      <td>13.70348653</td>\n    </tr>\n  </tbody>\n</table>\n<p>8 rows × 30 columns</p>\n</div>"
     },
     "metadata": {},
     "execution_count": 14
    }
   ],
   "source": [
    "X.describe()"
   ]
  },
  {
   "source": [
    "It can be seen that the features have different values, but as we are progressing deeper into the order book those are getting more and more similar between different time horizons. This can be for sure separate task for analysis. We can do some broader feature engineering in the future by combining some features together or deleting those that cover similar information. "
   ],
   "cell_type": "markdown",
   "metadata": {}
  },
  {
   "source": [
    "## Model\n",
    "\n",
    "I decided to implement two machine learning models that are widely used for classification purposes. The first model was Logistic Regression, known for its simplicity and ease of parameter tuning. The second model was Random Forest that is really flexible, not prone to shape of the data and usually provides satisfactory results with default parameters.\n",
    "\n",
    "I choose a set of parameters to tune for each model. These are saved as default in `parameters` attribute of a class. In case of Logistic Regression these were tuned with the use of GridSearchCV. For Random Forest I used RandomizedSearchCV.\n",
    "\n",
    "The cross validation is used to avoid overfitting. It is a more difficult task for time series data where we have data that is ordered by time. So to perform a cross validation one need to take the time dimension into account. Hence I splitted my training set into multiple consecutive validation/test sets that allowed me to train and test the models with differnt hyperparameters on differnt time horizons. While it has definitelly positive impact on our model's bias-variance tradeoff, it also takes much more time to fit a model.  \n",
    "\n",
    "Let's divide the parameters into train and test sets:"
   ],
   "cell_type": "markdown",
   "metadata": {}
  },
  {
   "cell_type": "code",
   "execution_count": 21,
   "metadata": {},
   "outputs": [],
   "source": [
    "y_train, X_train = y[:sly.train_end], X[:sly.train_end]\n",
    "y_test, X_test = y[sly.test_start:], X[sly.test_start:]"
   ]
  },
  {
   "source": [
    "### Logistic Regression\n",
    "\n",
    "Fitting the model:"
   ],
   "cell_type": "markdown",
   "metadata": {}
  },
  {
   "cell_type": "code",
   "execution_count": 16,
   "metadata": {},
   "outputs": [
    {
     "output_type": "stream",
     "name": "stdout",
     "text": [
      "SPLIT BY DAYS:\nVALIDATION:  [17] TEST:  [18]\nVALIDATION:  [17 18] TEST:  [19]\nVALIDATION:  [17 18 19] TEST:  [20]\nVALIDATION:  [17 18 19 20] TEST:  [21]\nVALIDATION:  [17 18 19 20 21] TEST:  [22]\nVALIDATION:  [17 18 19 20 21 22] TEST:  [23]\nVALIDATION:  [17 18 19 20 21 22 23] TEST:  [24]\nVALIDATION:  [17 18 19 20 21 22 23 24] TEST:  [25]\nVALIDATION:  [17 18 19 20 21 22 23 24 25] TEST:  [26]\nVALIDATION:  [17 18 19 20 21 22 23 24 25 26] TEST:  [27]\nVALIDATION:  [17 18 19 20 21 22 23 24 25 26 27] TEST:  [28]\nVALIDATION:  [17 18 19 20 21 22 23 24 25 26 27 28] TEST:  [29]\n"
     ]
    },
    {
     "output_type": "execute_result",
     "data": {
      "text/plain": [
       "GridSearchCV(cv=TimeSeriesSplit(gap=0, max_train_size=None, n_splits=12, test_size=None),\n",
       "             estimator=LogisticRegression(multi_class='multinomial', n_jobs=-1),\n",
       "             n_jobs=-1,\n",
       "             param_grid={'C': [0.01, 0.1, 1], 'solver': ['sag', 'saga']})"
      ]
     },
     "metadata": {},
     "execution_count": 16
    }
   ],
   "source": [
    "sly.fit(X_train, y_train, kind='LogisticRegression')\n",
    "sly.model "
   ]
  },
  {
   "source": [
    "The best estimator among tested in GridSearchCV:"
   ],
   "cell_type": "markdown",
   "metadata": {}
  },
  {
   "cell_type": "code",
   "execution_count": 17,
   "metadata": {},
   "outputs": [
    {
     "output_type": "execute_result",
     "data": {
      "text/plain": [
       "LogisticRegression(C=0.1, multi_class='multinomial', n_jobs=-1, solver='sag')"
      ]
     },
     "metadata": {},
     "execution_count": 17
    }
   ],
   "source": [
    "sly.model.best_estimator_"
   ]
  },
  {
   "source": [
    "The accuracy score of best estimator in the trainig phase:"
   ],
   "cell_type": "markdown",
   "metadata": {}
  },
  {
   "cell_type": "code",
   "execution_count": 18,
   "metadata": {},
   "outputs": [
    {
     "output_type": "execute_result",
     "data": {
      "text/plain": [
       "0.3556134259259259"
      ]
     },
     "metadata": {},
     "execution_count": 18
    }
   ],
   "source": [
    "sly.model.best_score_"
   ]
  },
  {
   "source": [
    "Let's see the prediction results:"
   ],
   "cell_type": "markdown",
   "metadata": {}
  },
  {
   "cell_type": "code",
   "execution_count": 19,
   "metadata": {},
   "outputs": [
    {
     "output_type": "stream",
     "name": "stdout",
     "text": [
      "Test accuracy score: 0.39375\nClassification report:\n\n              precision    recall  f1-score   support\n\n          -1       0.60      0.01      0.02       650\n           0       0.10      0.03      0.05       203\n           1       0.40      0.95      0.57       587\n\n    accuracy                           0.39      1440\n   macro avg       0.37      0.33      0.21      1440\nweighted avg       0.45      0.39      0.25      1440\n\n"
     ]
    }
   ],
   "source": [
    "preds = sly.predict(X_test)\n",
    "sly.summary(y_test, preds)"
   ]
  },
  {
   "source": [
    "### Random Forest\n",
    "\n",
    "Fitting the model:"
   ],
   "cell_type": "markdown",
   "metadata": {}
  },
  {
   "cell_type": "code",
   "execution_count": 22,
   "metadata": {},
   "outputs": [
    {
     "output_type": "stream",
     "name": "stdout",
     "text": [
      "SPLIT BY DAYS:\nVALIDATION:  [17] TEST:  [18]\nVALIDATION:  [17 18] TEST:  [19]\nVALIDATION:  [17 18 19] TEST:  [20]\nVALIDATION:  [17 18 19 20] TEST:  [21]\nVALIDATION:  [17 18 19 20 21] TEST:  [22]\nVALIDATION:  [17 18 19 20 21 22] TEST:  [23]\nVALIDATION:  [17 18 19 20 21 22 23] TEST:  [24]\nVALIDATION:  [17 18 19 20 21 22 23 24] TEST:  [25]\nVALIDATION:  [17 18 19 20 21 22 23 24 25] TEST:  [26]\nVALIDATION:  [17 18 19 20 21 22 23 24 25 26] TEST:  [27]\nVALIDATION:  [17 18 19 20 21 22 23 24 25 26 27] TEST:  [28]\nVALIDATION:  [17 18 19 20 21 22 23 24 25 26 27 28] TEST:  [29]\n"
     ]
    },
    {
     "output_type": "execute_result",
     "data": {
      "text/plain": [
       "RandomizedSearchCV(cv=TimeSeriesSplit(gap=0, max_train_size=None, n_splits=12, test_size=None),\n",
       "                   estimator=RandomForestClassifier(n_jobs=-1), n_jobs=-1,\n",
       "                   param_distributions={'bootstrap': [True, False],\n",
       "                                        'max_depth': array([ 3, 10, 11]),\n",
       "                                        'max_features': ['auto', 'sqrt'],\n",
       "                                        'min_samples_split': array([7, 7]),\n",
       "                                        'n_estimators': array([839, 178, 109, 965, 512])})"
      ]
     },
     "metadata": {},
     "execution_count": 22
    }
   ],
   "source": [
    "sly.fit(X_train, y_train, kind='RandomForest')\n",
    "sly.model "
   ]
  },
  {
   "source": [
    "The best estimator among tested in RandomizedSearchCV:"
   ],
   "cell_type": "markdown",
   "metadata": {}
  },
  {
   "cell_type": "code",
   "execution_count": 23,
   "metadata": {},
   "outputs": [
    {
     "output_type": "execute_result",
     "data": {
      "text/plain": [
       "RandomForestClassifier(max_depth=11, min_samples_split=7, n_estimators=839,\n",
       "                       n_jobs=-1)"
      ]
     },
     "metadata": {},
     "execution_count": 23
    }
   ],
   "source": [
    "sly.model.best_estimator_"
   ]
  },
  {
   "source": [
    "The accuracy score of best estimator in the trainig phase:"
   ],
   "cell_type": "markdown",
   "metadata": {}
  },
  {
   "cell_type": "code",
   "execution_count": 24,
   "metadata": {},
   "outputs": [
    {
     "output_type": "execute_result",
     "data": {
      "text/plain": [
       "0.47297453703703707"
      ]
     },
     "metadata": {},
     "execution_count": 24
    }
   ],
   "source": [
    "sly.model.best_score_"
   ]
  },
  {
   "source": [
    "Let's see the prediction results:"
   ],
   "cell_type": "markdown",
   "metadata": {}
  },
  {
   "cell_type": "code",
   "execution_count": 25,
   "metadata": {},
   "outputs": [
    {
     "output_type": "stream",
     "name": "stdout",
     "text": [
      "Test accuracy score: 0.5159722222222223\nClassification report:\n\n              precision    recall  f1-score   support\n\n          -1       0.53      0.57      0.55       650\n           0       0.52      0.05      0.10       203\n           1       0.50      0.61      0.55       587\n\n    accuracy                           0.52      1440\n   macro avg       0.52      0.41      0.40      1440\nweighted avg       0.52      0.52      0.49      1440\n\n"
     ]
    }
   ],
   "source": [
    "preds = sly.predict(X_test)\n",
    "sly.summary(y_test, preds)"
   ]
  },
  {
   "source": [
    "As it may be observed the results obtained by Random Forest are much better, hence I decided to set it as a default model in `SlyQuoter` class. Neverthelles these are still not ideal and leave a huge room for improvement but are also a valuable hint on the improvement direction. Given the fact that I utilized cross validation, we can be more confident that the model is not overfitted. "
   ],
   "cell_type": "markdown",
   "metadata": {}
  },
  {
   "source": [
    "## Quoting \n",
    "\n",
    "After creating a model, we need to do one last thing: create bid-ask quotes making use of computed model results. To achieve that I used below formulas:\n",
    "\n",
    "$$ BidPrice_{t} = BestBidPrice_{t} + \\mu * min(signal_{t}, 0) $$\n",
    "$$ AskPrice_{t} = BestAskPrice_{t} + \\mu * max(signal_{t}, 0) $$\n",
    "\n",
    "These equations utilize best bid and ask prices at a given time $t$, our model predictions ($signal_t$) and parameter $\\mu$. This parameter is a scaling parameter and is responsible for the magnitude of our quotes change in relation to top of the book prices. It was defined by me as an absolute maximum difference in mid price among $l$ order book levels in train period. \n",
    "\n",
    "I chose $l$ to be 2, because I was interested in only first two order book levels to catch the price dynamic near the top of the book. Such an approach together with above quotes formulas that can't be better than best bid and ask at a time, allow us to post a limit order passively in the first few order book levels. Thus we can protect ourselves against posting aggressively and crossing the spread.\n",
    "\n",
    "In the long run it may be feasible not to post frequently at the top of the book but rather passively near the top which may increase the probability of filling two sides and more optimal inventory management. \n",
    "\n",
    "Below is the comparison between computed quotes and best bid and ask prices for a given time ranges."
   ],
   "cell_type": "markdown",
   "metadata": {}
  },
  {
   "cell_type": "code",
   "execution_count": 26,
   "metadata": {},
   "outputs": [
    {
     "output_type": "execute_result",
     "data": {
      "text/plain": [
       "                       bidPrice    askPrice\n",
       "timeStamp                                  \n",
       "2020-07-30 23:55:00  0.00002702  0.00002710\n",
       "2020-07-30 23:56:00  0.00002702  0.00002710\n",
       "2020-07-30 23:57:00  0.00002702  0.00002709\n",
       "2020-07-30 23:58:00  0.00002702  0.00002708\n",
       "2020-07-30 23:59:00  0.00002699  0.00002710"
      ],
      "text/html": "<div>\n<style scoped>\n    .dataframe tbody tr th:only-of-type {\n        vertical-align: middle;\n    }\n\n    .dataframe tbody tr th {\n        vertical-align: top;\n    }\n\n    .dataframe thead th {\n        text-align: right;\n    }\n</style>\n<table border=\"1\" class=\"dataframe\">\n  <thead>\n    <tr style=\"text-align: right;\">\n      <th></th>\n      <th>bidPrice</th>\n      <th>askPrice</th>\n    </tr>\n    <tr>\n      <th>timeStamp</th>\n      <th></th>\n      <th></th>\n    </tr>\n  </thead>\n  <tbody>\n    <tr>\n      <th>2020-07-30 23:55:00</th>\n      <td>0.00002702</td>\n      <td>0.00002710</td>\n    </tr>\n    <tr>\n      <th>2020-07-30 23:56:00</th>\n      <td>0.00002702</td>\n      <td>0.00002710</td>\n    </tr>\n    <tr>\n      <th>2020-07-30 23:57:00</th>\n      <td>0.00002702</td>\n      <td>0.00002709</td>\n    </tr>\n    <tr>\n      <th>2020-07-30 23:58:00</th>\n      <td>0.00002702</td>\n      <td>0.00002708</td>\n    </tr>\n    <tr>\n      <th>2020-07-30 23:59:00</th>\n      <td>0.00002699</td>\n      <td>0.00002710</td>\n    </tr>\n  </tbody>\n</table>\n</div>"
     },
     "metadata": {},
     "execution_count": 26
    }
   ],
   "source": [
    "quotes = sly.quote(preds)\n",
    "quotes.tail()"
   ]
  },
  {
   "cell_type": "code",
   "execution_count": 27,
   "metadata": {},
   "outputs": [
    {
     "output_type": "execute_result",
     "data": {
      "text/plain": [
       "                       bidPrice    askPrice    midPrice      midRet\n",
       "timeStamp                                                          \n",
       "2020-07-30 23:55:00  0.00002706  0.00002710  0.00002708 -0.00129080\n",
       "2020-07-30 23:56:00  0.00002706  0.00002710  0.00002708  0.00000000\n",
       "2020-07-30 23:57:00  0.00002706  0.00002709  0.00002708 -0.00018464\n",
       "2020-07-30 23:58:00  0.00002706  0.00002708  0.00002707 -0.00018467\n",
       "2020-07-30 23:59:00  0.00002703  0.00002710  0.00002706 -0.00018471"
      ],
      "text/html": "<div>\n<style scoped>\n    .dataframe tbody tr th:only-of-type {\n        vertical-align: middle;\n    }\n\n    .dataframe tbody tr th {\n        vertical-align: top;\n    }\n\n    .dataframe thead th {\n        text-align: right;\n    }\n</style>\n<table border=\"1\" class=\"dataframe\">\n  <thead>\n    <tr style=\"text-align: right;\">\n      <th></th>\n      <th>bidPrice</th>\n      <th>askPrice</th>\n      <th>midPrice</th>\n      <th>midRet</th>\n    </tr>\n    <tr>\n      <th>timeStamp</th>\n      <th></th>\n      <th></th>\n      <th></th>\n      <th></th>\n    </tr>\n  </thead>\n  <tbody>\n    <tr>\n      <th>2020-07-30 23:55:00</th>\n      <td>0.00002706</td>\n      <td>0.00002710</td>\n      <td>0.00002708</td>\n      <td>-0.00129080</td>\n    </tr>\n    <tr>\n      <th>2020-07-30 23:56:00</th>\n      <td>0.00002706</td>\n      <td>0.00002710</td>\n      <td>0.00002708</td>\n      <td>0.00000000</td>\n    </tr>\n    <tr>\n      <th>2020-07-30 23:57:00</th>\n      <td>0.00002706</td>\n      <td>0.00002709</td>\n      <td>0.00002708</td>\n      <td>-0.00018464</td>\n    </tr>\n    <tr>\n      <th>2020-07-30 23:58:00</th>\n      <td>0.00002706</td>\n      <td>0.00002708</td>\n      <td>0.00002707</td>\n      <td>-0.00018467</td>\n    </tr>\n    <tr>\n      <th>2020-07-30 23:59:00</th>\n      <td>0.00002703</td>\n      <td>0.00002710</td>\n      <td>0.00002706</td>\n      <td>-0.00018471</td>\n    </tr>\n  </tbody>\n</table>\n</div>"
     },
     "metadata": {},
     "execution_count": 27
    }
   ],
   "source": [
    "sly.bbo.tail()"
   ]
  },
  {
   "source": [
    "## Conclusions\n",
    "\n",
    "I presented modelling approach to determine bid and ask quotes by the market making entity. This report contains some fundamental assumptions about the time granularity and considered order book depth. I set them arbitrary to facilitate the analysis while taking into account the time frames and available computing power. \n",
    "\n",
    "There is a big room for improvement and additional work, especially with more profound optimization of $\\tau$ and $\\mu$ parameters, as well as the shape of utilized functional forms and finally - the fitted models. \n",
    "\n",
    "However, above analysis shows some example approaches of dealing with such problems and sets the direction for further research. "
   ],
   "cell_type": "markdown",
   "metadata": {}
  },
  {
   "source": [
    "## References\n",
    "\n",
    "$[1]$ Xiaodong Li, Xiaotie Deng, Shanfeng Zhu, Feng Wang and Haoran Xie. *An intelligent market making strategy in      algorithmic trading*. Frontiers of Computer Science, 8(4):596-608, 2014   \n",
    "\n",
    "$[2]$ Kapil Kanagal, Yu Wu, Kevin Chen. *Market Making with Machine Learning Methods*. Stanford, 2017 "
   ],
   "cell_type": "markdown",
   "metadata": {}
  }
 ]
}